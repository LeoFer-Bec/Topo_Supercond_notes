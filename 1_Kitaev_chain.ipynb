{
 "cells": [
  {
   "cell_type": "markdown",
   "metadata": {},
   "source": [
    "In this notebook the reference model for topological superconductivity in one dimension (1D) is introduced, the [Kitaev](https://iopscience.iop.org/article/10.1070/1063-7869/44/10S/S29) model (chain). We study this model because in one of its phases Majorana zero modes are supported. The interest in Majorana zero modes stems from the non-Abelian braiding statistics that could enable the realization of a topological quantum computer [DasSarma](https://www.nature.com/articles/npjqi20151). To simulate the Kitaev model the python package [kwant](https://kwant-project.org/) will be imported. Kwant is a versatile and powerful tool to build tight binding hamiltonians and solve transport-related problems.  \n",
    "\n",
    "More information and details about Majorana zero modes can be found in these reviews: [Alicea](https://iopscience.iop.org/article/10.1088/0034-4885/75/7/076501) and [Aguado](https://www.sif.it/riviste/sif/ncr/econtents/2017/040/11/article/0). I also recommend to follow the online course [Topology in condensed matter](https://topocondmat.org) of Akhmerov et al.  \n",
    "\n",
    "# Outline\n",
    "- [1 - Kitaev model in real space](#1)\n",
    "- [2 - Building the model with kwant](#2)\n",
    "  - [2.1 Method 1](#2.1)\n",
    "    -  [ Eigenenergies and eigenstates](#2.1.1)\n",
    "  - [2.2 - Method 2](#2.2)\n",
    "    -  [ Phases of the Kitaev model](#2.2.1)\n",
    "- [3 - Kitaev model in k space](#3)\n",
    "  - [3.1 Method 3](#3.1)\n"
   ]
  },
  {
   "cell_type": "markdown",
   "metadata": {},
   "source": [
    "<a name=\"1\"></a>\n",
    "# Kitaev model in real space\n",
    "\n",
    "The Kitaev model describes electrons in a chain with hopping energy $t$, chemical potential $\\mu$, and superconducting gap $\\Delta$,\n",
    "\n",
    "\\begin{equation}\n",
    "H = \\sum_{j=1}^N \\bigl[ -t\\bigl(c_j^{\\dagger}c_{j+1} + c_{j+1}^{\\dagger}c_j\\bigr) \n",
    "-\\mu c_j^{\\dagger}c_j + \\Delta c_j c_{j+1} + \\Delta^*c_{j+1}^{\\dagger}c_j^{\\dagger}\\bigr],\n",
    "\\label{Kitaham}\\tag{1}\n",
    "\\end{equation}\n",
    "\n",
    "where $c_j^{\\dagger}$ ($c_j$) creates (annihilates) electrons at site $j$. Notice that hamiltonian (\\ref{Kitaham}) describes spinless particles (neither spin indexes nor spin operators appear in this expression). In a following notebook a model supporting Majoranas and including spin will be presented. The creation and annihilation operators satisfy some relations, given the fermionic nature of electrons, \n",
    "\n",
    "\\begin{eqnarray}\n",
    "c_i c_j^{\\dagger} + c_j^{\\dagger}c_i &=& \\delta_{i,j\\,}, \\label{fermalgebra}\\tag{2} \\\\ \n",
    "c_i c_j + c_j c_i &=& 0\\,. \n",
    "\\end{eqnarray}\n",
    "\n",
    "For simplicity we consider a homogeneous superconducting gap, i.e. $\\Delta = |\\Delta|e^{i\\phi}$. In this case we use the transformations $c_j\\rightarrow e^{-i\\phi/2}c_j$ and  $c_j^{\\dagger}\\rightarrow e^{i\\phi/2}c_j^{\\dagger}$ to have a purely real superconducting gap. Let's use Eq. (\\ref{fermalgebra}) to obtain a kind of \"assymetric'' expression for the hamiltonian,\n",
    "\n",
    "\\begin{eqnarray}\n",
    "&H = \\frac{1}{2}\\sum_{j=1}^N \\bigl[ \n",
    "-t\\bigl(c_j^{\\dagger}c_{j+1} -c_{j+1}c_j^{\\dagger} +c_{j+1}^{\\dagger}c_j -c_jc_{j+1}^{\\dagger} \\bigr) \n",
    "-\\mu\\bigl( c_j^{\\dagger}c_j - c_jc_j^{\\dagger} +1\\bigr) \\\\\n",
    "&+|\\Delta| \\bigl(c_j c_{j+1} - c_{j+1}c_j  \n",
    "+c_{j+1}^{\\dagger}c_j^{\\dagger} - c_j^{\\dagger}c_{j+1}^{\\dagger} \\bigr)\\bigr].\n",
    "\\end{eqnarray}\n",
    "\n",
    "Let's arrange all the creation and annihilation operators as row and column vectors, $C^{\\dagger}=(c^{\\dagger}_1,\\cdots,c_N^{\\dagger},c_1,\\cdots,c_N)$ and $C=(c_1,\\cdots,c_N,c^{\\dagger}_1,\\cdots,c_N^{\\dagger})^T$. The hamiltonian is now in what is called the  Bogoliubov-de Gennes formalism, \n",
    "\n",
    "\\begin{eqnarray}\n",
    "H = \\frac{1}{2} C^{\\dagger}\\left(\n",
    "\\begin{array}{cc}\n",
    "\\hat{T} & \\hat{\\Delta} \\\\\n",
    "-\\hat{\\Delta} & -\\hat{T} \\\\\n",
    "\\end{array}\n",
    "\\right)C -\\frac{\\mu N}{2},\n",
    "\\label{Kita_BdG}\\tag{3}\n",
    "\\end{eqnarray}\n",
    "\n",
    "where $\\hat{T}$ and $\\hat{\\Delta}$ are $N\\times N$ matrices, \n",
    "\\begin{eqnarray}\n",
    "\\begin{array}{cc}\n",
    "\\hat{T} = \\left(\n",
    "\\begin{array}{ccccc}\n",
    "-\\mu & -t & & & \\\\\n",
    "-t & -\\mu & -t & & \\\\\n",
    "& -t & -\\mu & -t & \\\\\n",
    "& & \\ddots & \\ddots & \\ddots\n",
    "\\end{array}\n",
    "\\right),\n",
    "&\\!\\mathrm{and}\\,\\,\n",
    "\\hat{\\Delta} = \\left(\n",
    "\\begin{array}{ccccc}\n",
    " & -|\\Delta| & & & \\\\\n",
    "|\\Delta| & & -|\\Delta| & & \\\\\n",
    "& |\\Delta| & & -|\\Delta| & \\\\\n",
    "& & \\ddots & & \\ddots\n",
    "\\end{array}\n",
    "\\right).\n",
    "\\end{array}\n",
    "\\end{eqnarray}\n",
    "\n",
    "The last term in Eq. (\\ref{Kita_BdG}) is just an energy shift and one can include it in a new definition of the hamiltonian. In a fully matricial form the hamiltonian reads,\n",
    "$$H = \\frac{1}{2}C^{\\dagger}\\bigl(\\hat{T}\\tau_z + i\\hat{\\Delta}\\tau_y\\bigr)C,$$\n",
    "\n",
    "where $\\boldsymbol{\\tau}=(\\tau_x,\\tau_y,\\tau_z)$ are pauli matrices acting in what is called the Nambu space (electron and hole space). $\\mathscr{H}=\\hat{T}\\tau_z + i\\hat{\\Delta}\\tau_y$ is a sparse matrix with dimension $2N\\times 2N$ and 7 non-zero diagonals. The eigenvalues and eigenvectors of this matrix can be computed with any linear solver algorithm, I'll use the python package [kwant](https://kwant-project.org/) to build this hamiltonian matrix."
   ]
  },
  {
   "cell_type": "code",
   "execution_count": 1,
   "metadata": {},
   "outputs": [
    {
     "name": "stderr",
     "output_type": "stream",
     "text": [
      "C:\\Users\\victo\\anaconda3\\lib\\site-packages\\kwant\\solvers\\default.py:18: RuntimeWarning: MUMPS is not available, SciPy built-in solver will be used as a fallback. Performance can be very poor in this case.\n",
      "  \"Performance can be very poor in this case.\", RuntimeWarning)\n"
     ]
    }
   ],
   "source": [
    "import kwant\n",
    "import numpy as np\n",
    "import matplotlib.pyplot as plt\n",
    "from scipy.sparse.linalg import eigsh\n",
    "from scipy.linalg import eigh"
   ]
  },
  {
   "cell_type": "markdown",
   "metadata": {},
   "source": [
    "<a name=\"2\"></a>\n",
    "# Building the system with kwant\n",
    "\n",
    "$\\newcommand{\\ket}[1]{|#1\\rangle}$\n",
    "$\\newcommand{\\bra}[1]{\\langle #1|}$\n",
    "Another form to write the Kitaev hamiltonian, and which appears convenient for kwant, consists in using the ket $(\\ket{})$ and bra $(\\bra{})$ notation. For example, in this notation $\\hat{T}=\\sum_j \\bigl(-\\mu\\ket{j}\\bra{j}-t\\ket{j}\\bra{j+1} - t\\ket{j+1}\\bra{j}\\bigr)$.    \n",
    "\n",
    "\\begin{equation}\n",
    "\\mathscr{H} = -\\sum_j \\bigl[ \\mu\\tau_z\\ket{j}\\bra{j} +\\bigl(t\\tau_z+i|\\Delta|\\tau_y\\bigr)\\ket{j}\\bra{j+1} \n",
    "+\\bigl(t\\tau_z-i|\\Delta|\\tau_y\\bigr)\\ket{j+1}\\bra{j}\\bigr]\n",
    "\\end{equation}\n",
    "\n",
    "<a name=\"2.1\"></a>\n",
    "## Method 1\n",
    "The lines of code below implement the hamiltonian above."
   ]
  },
  {
   "cell_type": "code",
   "execution_count": 2,
   "metadata": {},
   "outputs": [],
   "source": [
    "# Defining lattice parameters and energy values \n",
    "alat = 0.25;   Nlat = 80\n",
    "t = 1.0;  mu = -0.2; Delta = 0.1\n",
    "\n",
    "# Defining the Pauli matrices acting in the Nambu space\n",
    "taux = np.array([[0,1],[1,0]])\n",
    "tauy = np.array([[0,-1j],[1j,0]])\n",
    "tauz = np.array([[1,0],[0,-1]])"
   ]
  },
  {
   "cell_type": "code",
   "execution_count": 3,
   "metadata": {},
   "outputs": [],
   "source": [
    "# From the kwant module `lattice' a 1-dimensional lattice is set\n",
    "# with lattice constant `alat' and number of orbitals = 2\n",
    "lat = kwant.lattice.chain(alat, norbs=2)\n",
    "\n",
    "# The kwant module `builder' defines a tight binding system from a graph\n",
    "# where the nodes and vertices correspond to onsite and hopping energies, respectively\n",
    "syst = kwant.Builder()\n",
    "syst[(lat(x) for x in range(Nlat))] = -mu*tauz\n",
    "syst[lat.neighbors()] = -t*tauz -1j*Delta*tauy\n",
    "\n",
    "# The last step in the construction of the tight binding system is its finalization\n",
    "syst=syst.finalized()"
   ]
  },
  {
   "cell_type": "code",
   "execution_count": 4,
   "metadata": {},
   "outputs": [
    {
     "data": {
      "image/png": "[encoded data removed]",
      "text/plain": [
       "<Figure size 432x288 with 1 Axes>"
      ]
     },
     "metadata": {
      "needs_background": "light"
     },
     "output_type": "display_data"
    },
    {
     "name": "stdout",
     "output_type": "stream",
     "text": [
      "Plotting the nodes and vertices of the lattice\n"
     ]
    }
   ],
   "source": [
    "kwant.plot(syst)\n",
    "print('Plotting the nodes and vertices of the lattice')"
   ]
  },
  {
   "cell_type": "markdown",
   "metadata": {},
   "source": [
    "<a name=\"2.1.1\"></a>\n",
    "### Eigenenergies and Eigenstates\n",
    "Let's now calculate some eigenvalues and eigenstates around the superconducting gap. Kwant provides a method to obtain the hamiltonian either as a sparse or dense matrix `hamiltonian_submatrix()`.   "
   ]
  },
  {
   "cell_type": "code",
   "execution_count": 5,
   "metadata": {},
   "outputs": [],
   "source": [
    "ham = syst.hamiltonian_submatrix(sparse=True)\n",
    "nrts = 10\n",
    "Evals, Evecs = eigsh(ham, k=nrts, which='SM')"
   ]
  },
  {
   "cell_type": "code",
   "execution_count": 6,
   "metadata": {},
   "outputs": [],
   "source": [
    "indlist = np.argsort(Evals)\n",
    "Evals = Evals[indlist]\n",
    "Evecs = Evecs[::,indlist]\n",
    "rho = kwant.operator.Density(syst, np.eye(2))"
   ]
  },
  {
   "cell_type": "markdown",
   "metadata": {},
   "source": [
    "The cell below plots the energies and the first three states with $E_n>0$. We see that while the state with n=5 is localized at the edges (Majorana state), the other two are extended all over the lattice (bulk states). "
   ]
  },
  {
   "cell_type": "code",
   "execution_count": 7,
   "metadata": {},
   "outputs": [
    {
     "data": {
      "image/png": "[encoded data removed]",
      "text/plain": [
       "<Figure size 576x216 with 2 Axes>"
      ]
     },
     "metadata": {
      "needs_background": "light"
     },
     "output_type": "display_data"
    }
   ],
   "source": [
    "fig, sub = plt.subplots(1,2, figsize=(8,3))\n",
    "sub[0].plot(mu*np.ones(len(Evals)),Evals,'o')\n",
    "sub[0].text(0.996*mu,1.03*Evals[0],'n=0')\n",
    "sub[0].text(0.996*mu,0.95*Evals[-1],'n='+str(nrts-1))\n",
    "\n",
    "for ii in range(5,8):\n",
    "    sub[1].plot(rho(Evecs[::,ii]), label='n='+str(ii))\n",
    "    \n",
    "sub[0].set_ylabel('E/t')\n",
    "sub[0].set_xlabel(r'$\\mu/t$')\n",
    "sub[1].set_ylabel(r'$|\\psi|^2$')\n",
    "sub[1].set_xlabel('site')\n",
    "sub[1].legend(frameon=False)\n",
    "plt.subplots_adjust(wspace=0.3)"
   ]
  },
  {
   "cell_type": "markdown",
   "metadata": {},
   "source": [
    "<a name=\"2.2\"></a>\n",
    "## Method 2\n",
    "In the next lines of code we are going to set exactly the same system as before but using a slightly different method. The goal with this method is to be able to manipulate the parameters of the system, for example to visualize its phases. The key ingredients are the functions `onsite()` and `hop()` which depend on lattice cordinates and some other parameters.  "
   ]
  },
  {
   "cell_type": "code",
   "execution_count": 8,
   "metadata": {},
   "outputs": [],
   "source": [
    "def Ksystem(aa, L):\n",
    "    \n",
    "    def interval_shape(pos):\n",
    "        x, = pos\n",
    "        return  0 <= x < L \n",
    "    \n",
    "    def onsite(site, mu):\n",
    "        return  -mu*tauz\n",
    "    \n",
    "    def hop(site1, site2, t, Delta):\n",
    "        return -t*tauz  - 1j*Delta*tauy\n",
    "    \n",
    "    lat = kwant.lattice.chain(aa,norbs=2)\n",
    "    syst = kwant.Builder()\n",
    "    syst[lat.shape(interval_shape, (0, ))] = onsite\n",
    "    syst[lat.neighbors()] = hop\n",
    "    syst = syst.finalized()\n",
    "    \n",
    "    return syst"
   ]
  },
  {
   "cell_type": "code",
   "execution_count": 9,
   "metadata": {},
   "outputs": [
    {
     "data": {
      "image/png": "[encoded data removed]",
      "text/plain": [
       "<Figure size 432x288 with 1 Axes>"
      ]
     },
     "metadata": {
      "needs_background": "light"
     },
     "output_type": "display_data"
    },
    {
     "name": "stdout",
     "output_type": "stream",
     "text": [
      "Plotting the nodes and vertices of the lattice\n"
     ]
    }
   ],
   "source": [
    "Ll = 20\n",
    "syst = Ksystem(alat,Ll)\n",
    "kwant.plot(syst)\n",
    "print('Plotting the nodes and vertices of the lattice')"
   ]
  },
  {
   "cell_type": "markdown",
   "metadata": {},
   "source": [
    "<a name=\"2.2.1\"></a>\n",
    "### Phases of the Kitaev model \n",
    "\n",
    "Kwant reads the input parameters of the `onsite()` and `hop()` functions from a python dictionary. The values can be updated at any time, for example to generate a dependence of the energy on the updated value. The function `E_wvf()` calculates the energy and some eigenstates as a function of the chemical potential $\\mu$. The update of the chemical potential is executed by the instruction `params['mu'] = mu` in the for loop below. "
   ]
  },
  {
   "cell_type": "code",
   "execution_count": 10,
   "metadata": {},
   "outputs": [],
   "source": [
    "params = dict(t=1,mu=-0.2,Delta=0.1)"
   ]
  },
  {
   "cell_type": "code",
   "execution_count": 11,
   "metadata": {},
   "outputs": [],
   "source": [
    "def E_wvf(muarr,mua,mub,nrts):\n",
    "  \n",
    "    if mua < muarr[0] or mua > muarr[-1]:\n",
    "        ia = 0\n",
    "    else:\n",
    "        ia = (mua - muarr[0])/(muarr[1]-muarr[0])\n",
    "        ia = int(round(ia))\n",
    "    if mub > muarr[-1] or mub < muarr[0]:\n",
    "        ib = len(muarr)\n",
    "    else:\n",
    "        ib = (mub - muarr[0])/(muarr[1]-muarr[0])\n",
    "        ib = int(round(ib))\n",
    "    Elist = []\n",
    "    indlist = [ia,ib]\n",
    "    ttlist = ['(a)','(b)','(c)']\n",
    "    vlist = []\n",
    "    \n",
    "    for ii, mu in enumerate(muarr):\n",
    "        params['mu'] = mu\n",
    "        ham = syst.hamiltonian_submatrix(params=params,sparse=True)\n",
    "        if ii == ia or ii == ib:\n",
    "            Evals, Evecs = eigsh(ham, k=nrts, which='SM')\n",
    "            indarr = np.argsort(Evals)\n",
    "            Evals = Evals[indarr]\n",
    "            vlist.append(Evecs[::,indarr])\n",
    "        else: \n",
    "            Evals = eigsh(ham, k=nrts, which='SM', return_eigenvectors=False)\n",
    "            Evals = np.sort(Evals)\n",
    "            \n",
    "        Elist.append(Evals)\n",
    "    \n",
    "    Emtx = np.array(Elist)\n",
    "    rho = kwant.operator.Density(syst, np.eye(2))\n",
    "    \n",
    "    nsites = Ll/alat;  nsites = int(round(nsites))\n",
    "\n",
    "    fig, sub = plt.subplots(1,3, figsize=(10,3))\n",
    "    \n",
    "    Eup = 2.0*Emtx[0,0]; Edw = 2.0*Emtx[0,-1] \n",
    "    sub[0].plot(muarr, Emtx)\n",
    "    sub[0].set_ylim(Edw,Eup)\n",
    "    sub[0].set_xlabel(r'$\\mu/t$')\n",
    "    sub[0].set_ylabel(r'$E/t$', rotation='horizontal')\n",
    "    sub[0].set_title(ttlist[0])\n",
    "    for jj in range(2):\n",
    "        sub[0].plot(muarr[indlist[jj]]*np.ones(7),np.linspace(Edw,Eup,7), '--k', alpha=0.5)\n",
    "        sub[1+jj].set_xticks(np.linspace(0,nsites,5))\n",
    "        sub[1+jj].set_xticklabels(np.linspace(0,Ll,5))\n",
    "        sub[1+jj].set_xlabel('x')\n",
    "        sub[1+jj].set_ylabel(r'$|\\psi\\,|^2$', rotation='horizontal', labelpad=8, y=0.48)\n",
    "        sub[1+jj].set_title(ttlist[1+jj]+r'$\\;\\;\\mu/t=$'+str.format('{:.2f}',muarr[indlist[jj]]))\n",
    "        \n",
    "    for ii in range(3):\n",
    "        nhlf = int(0.5*nrts)\n",
    "        En = Emtx[ia,nhlf+ii]\n",
    "        sub[1].plot(rho(vlist[0][::,nhlf+ii]), label='E='+str.format('{:.3f}',En))\n",
    "        sub[2].plot(rho(vlist[1][::,nhlf+ii]))\n",
    "            \n",
    "    sub[1].legend(frameon=False)\n",
    "    fig.subplots_adjust(wspace=0.36)\n",
    "        "
   ]
  },
  {
   "cell_type": "code",
   "execution_count": 12,
   "metadata": {},
   "outputs": [
    {
     "data": {
      "image/png": "[encoded data removed]",
      "text/plain": [
       "<Figure size 720x216 with 3 Axes>"
      ]
     },
     "metadata": {
      "needs_background": "light"
     },
     "output_type": "display_data"
    }
   ],
   "source": [
    "muarr = np.linspace(1.2,2.8,33)\n",
    "E_wvf(muarr,1.4,2.4,30)"
   ]
  },
  {
   "cell_type": "markdown",
   "metadata": {},
   "source": [
    "Figure (a) shows the energy spectrum of the Kitaev chain as a function of the chemical potential $\\mu$. Notice that zero energy states emerge for $\\mu/t < 2$ (the topologically nontrivial phase). Fig. (b) shows that while zero energy states are located at the edges, non-zero energy states are extended all over the sample. Fig. (c) plots three states when $\\mu/t > 2$ (the topologically trivial phase).   "
   ]
  },
  {
   "cell_type": "markdown",
   "metadata": {},
   "source": [
    "<a name=\"3\"></a>\n",
    "# Kitaev model in $k$ space\n",
    "In this section we deal with the Kitaev model in the reciprocal or $k$ space. Let's consider the 1D lattice is  periodic so one can define creation and annihilation operators in the $k$ space using the fourier transform,\n",
    "\n",
    "\\begin{equation}\n",
    "\\begin{array}{cc}\n",
    "c_k = \\frac{1}{\\sqrt{N}}\\sum_{j=1}^N e^{-ikja}c_j, &\n",
    "c_k^{\\dagger} = \\frac{1}{\\sqrt{N}}\\sum_{j=1}^N e^{ikja}c_j^{\\dagger}, &\n",
    "\\end{array}\n",
    "\\end{equation}\n",
    "\n",
    "where $N$ is the number of sites and $a$ is the lattice constant. Inverse operators can similarly be defined,\n",
    "\n",
    "\\begin{equation}\n",
    "\\begin{array}{cc}\n",
    "c_j = \\frac{1}{\\sqrt{N}}\\sum_{k} e^{ikja}c_k, &\n",
    "c_j^{\\dagger} = \\frac{1}{\\sqrt{N}}\\sum_{k} e^{-ikja}c_k^{\\dagger}. &\n",
    "\\label{opsktrans}\\tag{4}\n",
    "\\end{array}\n",
    "\\end{equation}\n",
    "\n",
    "From the periodicity of the system, i.e. $c_{j+N} = c_j$, one obtains that $ka=\\frac{2\\pi}{N}n$, where $n$ takes integer values (positive and negative ones). Let's apply the transformations of Eq. (\\ref{opsktrans}) to the kinetic term of the Kitaev model in real space,\n",
    "\n",
    "\\begin{eqnarray}\n",
    "& -t\\sum_{j=1}^N\\bigl(c_j^{\\dagger}c_{j+1} + c_{j+1}^{\\dagger}c_j\\bigr) =\n",
    "\\frac{-t}{N}\\sum_k\\sum_{k'} \\sum_{j=1}^N e^{i(k'-k)ja}\\bigl(\n",
    "c_k^{\\dagger}c_{k'}e^{ika} + c_{k}^{\\dagger}c_{k'}e^{-ik'a}\\bigr) = \\\\\n",
    "&-t\\sum_{k,k'}\\delta_{k',k}\\bigl( e^{ika} + e^{-ik'a}\\bigr) c_k^{\\dagger}c_{k'} =\n",
    "-2t \\sum_k \\cos{ka}\\,  c_k^{\\dagger}c_k\\,.\n",
    "\\end{eqnarray}\n",
    "\n",
    "In a middle step, the formula $\\frac{1}{N}\\sum_j e^{i(k'-k)ja}=\\delta_{k',\\,k}$ was employed. Following identical steps with the other terms in the Kitaev hamiltonian we obtain,\n",
    "\n",
    "\\begin{equation}\n",
    "H = \\sum_k \\bigl(-2t\\cos{ka}-\\mu\\bigr)  c_k^{\\dagger}c_k \n",
    "+|\\Delta|\\sum_k e^{-ika}\\bigl(c_kc_{-k} + c_k^{\\dagger}c_{-k}^{\\dagger}\\bigr).\n",
    "\\end{equation}\n",
    "\n",
    "By noticing that: 1) functions $f(k)=c_kc_{-k}$, and $g(k)=c_k^{\\dagger}c_{-k}^{\\dagger}$ are odd under $k$ and 2) the sum over $k$ is between $-N/2$ and $N/2,$ the kitaev hamiltonian in the reciprocal space simplifies to  \n",
    "\n",
    "\\begin{eqnarray}\n",
    "&H = \\sum_{k} \\bigl(-2t\\cos{ka}-\\mu\\bigr) c_k^{\\dagger}c_k  \n",
    "-2i|\\Delta|\\sum_{k>0} \\sin{ka} \\bigl(c_kc_{-k} + c_k^{\\dagger}c_{-k}^{\\dagger}\\bigr)=\\\\\n",
    "&\\sum_{k>0} \\bigl(-2t\\cos{ka}-\\mu\\bigr)\\bigl( c_k^{\\dagger}c_k - c_{-k}c_{-k}^{\\dagger}\\bigr)\n",
    "-2i|\\Delta|\\sin{ka} \\bigl(-c_{-k}c_k + c_k^{\\dagger}c_{-k}^{\\dagger}\\bigr).\n",
    "\\end{eqnarray}\n",
    "\n",
    "In a middle step, the term $\\sum_{k>0} \\bigl(-2t\\cos{ka}-\\mu\\bigr)$ was discarded since it's only an energy shift. The resulting expression above, arranged in a Bogoliubov-de Gennes notation, yields \n",
    "\n",
    "\\begin{equation}\n",
    "H = \\sum_{k>0} \\left(c_k^{\\dagger},c_{-k}\\right)\\left(\n",
    "\\begin{array}{cc}\n",
    "-2t\\cos{ka} -\\mu & -2i|\\Delta| \\sin{ka}\\\\\n",
    "2i|\\Delta|\\sin{ka} & 2t\\cos{ka} +\\mu\n",
    "\\end{array}\n",
    "\\right)\\left(\n",
    "\\begin{array}{c}\n",
    "c_k \\\\\n",
    "c_{-k}^{\\dagger}\n",
    "\\end{array}\n",
    "\\right).\n",
    "\\label{kitaink}\\tag{5}\n",
    "\\end{equation}\n",
    "\n",
    "The energies are straightforwardly calculated,\n",
    "\n",
    "\\begin{equation}\n",
    "E = \\sqrt{\\bigl(2t\\cos{ka} +\\mu\\bigr)^2 + 4 |\\Delta|^2\\sin^2\\!{ka}}\\,.\n",
    "\\label{Ebands}\\tag{6}\n",
    "\\end{equation}\n",
    "\n",
    "Let's now consider that $ka$ is a small number and expand the trigonometric functions in Eq. (\\ref{kitaink}). In first order we obtain,\n",
    "\n",
    "$$H(k)\\approx\\left(\n",
    "\\begin{array}{cc}\n",
    "-2t -\\mu & -2i|\\Delta| ka \\\\\n",
    "2i|\\Delta| ka & 2t + \\mu\n",
    "\\end{array}\n",
    "\\right)= \\tilde{\\Delta}\\sigma_y k + \\tilde{m}\\sigma_z,$$\n",
    "\n",
    "where $\\tilde{m}=-(2t+\\mu)$ and $\\tilde{\\Delta}= 2a|\\Delta|$. This is a 1D Dirac hamiltonian with the 'mass' term given by $- (2t+\\mu)$. Notice that the mass changes sign at $\\mu/t=-2$, the interface between the two distinct topological phases. \n",
    "\n",
    "In second order we obtain,\n",
    "\n",
    "\\begin{equation}H(k)\\approx\\left(\n",
    "\\begin{array}{cc}\n",
    "-2t -\\mu + ta^2k^2& -2i|\\Delta| ka \\\\\n",
    "2i|\\Delta| ka & 2t + \\mu - ta^2k^2\n",
    "\\end{array}\n",
    "\\right)= \\bigl(\\tilde{a}k^2 -\\tilde{u}\\bigr)\\sigma_z + \\tilde{\\Delta}\\sigma_y k,\n",
    "\\label{K_conti2}\\tag{7}\n",
    "\\end{equation}\n",
    "\n",
    "where $\\tilde{a} = ta^2$ and $\\tilde{u}=2t + \\mu$. Let's implement Eqs.(\\ref{kitaink}) and (\\ref{K_conti2}) in the following lines. One of the features of kwant is that it internally calculates the hamiltonian in $k$ space from the equivalent one in real space. To do that kwant needs: 1) a translational symmetry and 2) a transformation where translational symmetries are replaced by linear momenta. In the function `K_period_sys()` these two requirements are implemented in the lines of code:  `kwant.Builder(kwant.TranslationalSymmetry([]))` and ` kwant.wraparound.wraparound()`, respectively."
   ]
  },
  {
   "cell_type": "code",
   "execution_count": 13,
   "metadata": {},
   "outputs": [],
   "source": [
    "def K_period_sys(aa):\n",
    "        \n",
    "    def onsite(site, mu):\n",
    "        return  -mu*tauz\n",
    "    \n",
    "    def hop(site1, site2, t, Delta):\n",
    "        return -t*tauz  - 1j*Delta*tauy\n",
    "    \n",
    "    lat = kwant.lattice.chain(aa,norbs=2)\n",
    "    build = kwant.Builder(kwant.TranslationalSymmetry([aa]))\n",
    "    build[lat(0)] = onsite\n",
    "    build[lat.neighbors()] = hop\n",
    "    infisyst = kwant.wraparound.wraparound(build).finalized()\n",
    "    \n",
    "    return infisyst"
   ]
  },
  {
   "cell_type": "code",
   "execution_count": 14,
   "metadata": {},
   "outputs": [],
   "source": [
    "from ipywidgets import interactive"
   ]
  },
  {
   "cell_type": "markdown",
   "metadata": {},
   "source": [
    "The function below, `spectrum()`, calculates the energy of the periodic system defined by the function above, `K_period_sys()`. Notice the line of code `params['k_x'] = kx` adds linear momentum values to the dictionary that kwant reads to implement the system."
   ]
  },
  {
   "cell_type": "code",
   "execution_count": 15,
   "metadata": {},
   "outputs": [],
   "source": [
    "def spectrum(chem,supgap):\n",
    "    \n",
    "    Elist = []\n",
    "    params['mu'] = chem\n",
    "    params['Delta'] = supgap \n",
    "    tval = params.get('t')\n",
    "    \n",
    "    period_syst = K_period_sys(alat)\n",
    "    \n",
    "    karr = np.linspace(0,np.pi,39)\n",
    "    for kx in karr:\n",
    "        params['k_x'] = kx\n",
    "        ham = period_syst.hamiltonian_submatrix(params=params, sparse=False)\n",
    "        Evals = eigh(ham, eigvals_only=True)\n",
    "        Elist.append(Evals)\n",
    "\n",
    "        Emtx = np.array(Elist)\n",
    "    \n",
    "    Eanalarr = np.sqrt((2*tval*np.cos(karr)+chem)**2+ 4*supgap**2*np.sin(karr)**2)\n",
    "    \n",
    "    fig, sub = plt.subplots(1, figsize=(5,4))\n",
    "\n",
    "    for ii in range(1,-3,-2):\n",
    "        sub.plot(ii*karr,Emtx[::,0], '-m')\n",
    "        for jj in range(1,-3,-2):\n",
    "            sub.plot(jj*karr[::4],ii*Eanalarr[::4], 'oc' )\n",
    "        sub.plot(ii*karr,Emtx[::,1], '-m')\n",
    "    \n",
    "    sub.set_title(r'$\\mu/t=$'+str(chem)+r'$,\\,\\Delta/t=$'+str(supgap))\n",
    "    sub.set_xlabel(r'$ka$', fontsize=13)    \n",
    "    sub.set_ylabel(r'$E$', fontsize=13)\n",
    "    sub.legend(['kwant','analytics'],frameon=False)"
   ]
  },
  {
   "cell_type": "code",
   "execution_count": 16,
   "metadata": {},
   "outputs": [
    {
     "data": {
      "application/vnd.jupyter.widget-view+json": {
       "model_id": "ee7f37e706354c698927b2287f623d5f",
       "version_major": 2,
       "version_minor": 0
      },
      "text/plain": [
       "interactive(children=(FloatSlider(value=0.0, description='chem', max=2.5, min=-2.5), FloatSlider(value=0.4, de…"
      ]
     },
     "metadata": {},
     "output_type": "display_data"
    }
   ],
   "source": [
    "w = interactive(spectrum, chem=(-2.5,2.5), supgap=(0.0,0.8))\n",
    "display(w)"
   ]
  },
  {
   "cell_type": "markdown",
   "metadata": {},
   "source": [
    "The figure above shows the energy spectrum of the Kitaev model in $k$ space. The energy is $2\\pi$ periodic, as expected, and the comparison between the analytic expression (6) and the calculation with kwant agrees well. Users can slide the buttons `chem` and `supgap` to manipulate the energy spectrum. Try finding the values of $\\mu$ where the gap closes. "
   ]
  },
  {
   "cell_type": "markdown",
   "metadata": {},
   "source": [
    "<a name=\"3.1\"></a>\n",
    "## Method 3\n",
    "\n",
    "Let's now describe another method to define a system in kwant. This functionality is very convenient if one has the hamiltonian in a continuous notation, i.e. given in terms of the continuous operators $\\mathbf{p}$ ($\\mathbf{k}$) and $\\mathbf{r}$. We will use this method to implement the hamiltonian of Eq. (7). In the cell below we start by declaring the hamiltonian as a string compatible with the [continuum](https://kwant-project.org/doc/1/reference/kwant.continuum) module of kwant and  the python package [sympy](https://www.sympy.org). Then, the function `kwant.continuum.discretize()` translates the features of the continuum model into features of the tight binding model, e.g. how the momentum operator translates to hoppings. In a subsequent step the module `kwant.Builder()` is used as in previous methods, and finally the empty tight binding model is filled with the hoppings and onsite functions that were translated from the string hamiltonian, `syst_infin.fill()`. This method works for both hamiltonians in real and $k$ space. In this particular case we are using it to calculate the energy spectrum of the Kitaev model in $k$ space.    "
   ]
  },
  {
   "cell_type": "code",
   "execution_count": 17,
   "metadata": {},
   "outputs": [
    {
     "name": "stderr",
     "output_type": "stream",
     "text": [
      "C:\\Users\\victo\\anaconda3\\lib\\site-packages\\ipykernel_launcher.py:6: KwantDeprecationWarning: Accessing kwant.continuum without an explicit import is deprecated. Instead, explicitly 'import kwant.continuum'.\n",
      "  \n"
     ]
    },
    {
     "data": {
      "text/latex": [
       "$\\displaystyle \\left[\\begin{matrix}a k_{x}^{2} - \\mu & - i \\Delta k_{x}\\\\i \\Delta k_{x} & - (a k_{x}^{2} - \\mu)\\end{matrix}\\right]$"
      ],
      "text/plain": [
       "Matrix([\n",
       "[a*k_x**2 - mu,     -I*Delta*k_x],\n",
       "[  I*Delta*k_x, -(a*k_x**2 - mu)]])"
      ]
     },
     "execution_count": 17,
     "metadata": {},
     "output_type": "execute_result"
    }
   ],
   "source": [
    "ham_cont = \"\"\"\n",
    "    (a*k_x**2  - mu) * sigma_z\n",
    "    + Delta * k_x *sigma_y\n",
    "\"\"\"\n",
    "\n",
    "hamiltonian = kwant.continuum.sympify(ham_cont)\n",
    "hamiltonian"
   ]
  },
  {
   "cell_type": "code",
   "execution_count": 18,
   "metadata": {},
   "outputs": [],
   "source": [
    "def Q_period_sys():\n",
    "    \n",
    "    def interval_shape(nsites):\n",
    "        def shape(site):\n",
    "            return 0 <= site.pos[0] < alat*nsites\n",
    "        return shape\n",
    "\n",
    "    template = kwant.continuum.discretize(\n",
    "        ham_cont, 'x', grid=alat)\n",
    "    syst_infin = kwant.Builder(kwant.TranslationalSymmetry([alat]))\n",
    "\n",
    "    syst_infin.fill(template, interval_shape, (0,))\n",
    "    infin_syst = kwant.wraparound.wraparound(syst_infin).finalized()\n",
    "    \n",
    "    return infin_syst"
   ]
  },
  {
   "cell_type": "markdown",
   "metadata": {},
   "source": [
    "Reminder: The dictionary of parameters has been updated as the calculations leading to Eq. (7) indicated, $\\tilde{\\Delta}= 2a|\\Delta|$, $\\tilde{a} = ta^2$ and $\\tilde{u}=2t + \\mu$. "
   ]
  },
  {
   "cell_type": "code",
   "execution_count": 19,
   "metadata": {},
   "outputs": [],
   "source": [
    "def spectr_compar(chem,supgap):\n",
    "    \n",
    "    Elist = []\n",
    "    params['mu'] = chem\n",
    "    params['Delta'] = supgap \n",
    "    tval = params.get('t')\n",
    "    \n",
    "    period_syst = Q_period_sys()\n",
    "    massinv = t*alat**2; mutilde = 2*t + params.get('mu'); Deltatilde = 2*alat*params.get('Delta')\n",
    "    newparams = dict(a=massinv,mu=mutilde,Delta=Deltatilde)\n",
    "    \n",
    "    karr = np.linspace(0,np.pi,39)\n",
    "    for kx in karr:\n",
    "        newparams['k_x'] = kx\n",
    "        ham = period_syst.hamiltonian_submatrix(params=newparams, sparse=False)\n",
    "        Evals = eigh(ham, eigvals_only=True)\n",
    "        Elist.append(Evals)\n",
    "\n",
    "        Emtx = np.array(Elist)\n",
    "    \n",
    "    Eanalarr = np.sqrt((2*tval*np.cos(karr)+chem)**2+ 4*supgap**2*np.sin(karr)**2)\n",
    "    \n",
    "    fig, sub = plt.subplots(1, figsize=(5,4))\n",
    "\n",
    "    for ii in range(1,-3,-2):\n",
    "        sub.plot(ii*karr,Emtx[::,0], '-m')\n",
    "        for jj in range(1,-3,-2):\n",
    "            sub.plot(jj*karr[::4],ii*Eanalarr[::4], 'oc' )\n",
    "        sub.plot(ii*karr,Emtx[::,1], '-m')\n",
    "            \n",
    "    sub.set_title(r'$\\mu/t=$'+str(chem)+r'$,\\,\\Delta/t=$'+str(supgap))\n",
    "    sub.set_xlabel(r'$ka$', fontsize=13)    \n",
    "    sub.set_ylabel(r'$E$', fontsize=13)\n",
    "    sub.legend(['kwant (continuous)','analytics'],frameon=False)"
   ]
  },
  {
   "cell_type": "code",
   "execution_count": 20,
   "metadata": {},
   "outputs": [
    {
     "data": {
      "application/vnd.jupyter.widget-view+json": {
       "model_id": "d041af5f67db4ba49664afbe8e410b11",
       "version_major": 2,
       "version_minor": 0
      },
      "text/plain": [
       "interactive(children=(FloatSlider(value=0.0, description='chem', max=2.5, min=-2.5), FloatSlider(value=0.4, de…"
      ]
     },
     "metadata": {},
     "output_type": "display_data"
    }
   ],
   "source": [
    "w = interactive(spectr_compar, chem=(-2.5,2.5), supgap=(0.0,0.8))\n",
    "display(w)"
   ]
  },
  {
   "cell_type": "markdown",
   "metadata": {},
   "source": [
    "In the figure above we check that methods 2 and 3 yield the same results for the energy spectrum of the kitaev hamiltonian in $k$ space."
   ]
  },
  {
   "cell_type": "code",
   "execution_count": null,
   "metadata": {},
   "outputs": [],
   "source": []
  }
 ],
 "metadata": {
  "kernelspec": {
   "display_name": "Python 3",
   "language": "python",
   "name": "python3"
  },
  "language_info": {
   "codemirror_mode": {
    "name": "ipython",
    "version": 3
   },
   "file_extension": ".py",
   "mimetype": "text/x-python",
   "name": "python",
   "nbconvert_exporter": "python",
   "pygments_lexer": "ipython3",
   "version": "3.7.6"
  }
 },
 "nbformat": 4,
 "nbformat_minor": 4
}
