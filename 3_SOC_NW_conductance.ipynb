{
 "cells": [
  {
   "cell_type": "markdown",
   "metadata": {},
   "source": [
    "In this notebook we calculate the conductance of junctions harboring Majorana zero energy modes. The junctions are infinite and of the type NS' or NS'S, where N stands for normal metal, S for superconductor and S' for  superconductor coexisting with ferromagnetism. The normal metal cosidered is a one-dimensional nanowire with strong spin-orbit coupling. The ferromagnetic superconductor is described by the [Lutchyn](https://link.aps.org/doi/10.1103/PhysRevLett.105.077001)-[Oreg](https://link.aps.org/doi/10.1103/PhysRevLett.105.177002) hamiltonian. The conductance is calculated within the scattering matrix formalism.    \n",
    "\n",
    "To know more about the scattering matrix formalism the following references are recommended: \n",
    "- Quantum Transport: Introduction to Nanoscience, [Nazarov & Blanter](https://doi.org/10.1017/CBO9780511626906).\n",
    "- Quantum Transport in Semiconductor Nanostructures, [Beenakker](https://www.sciencedirect.com/science/article/abs/pii/S0081194708600910)\n",
    "- Scattering matrix approach to the description of quantum electron transport, [Lesovik & Sadovskyy](https://iopscience.iop.org/article/10.3367/UFNe.0181.201110b.1041).   \n",
    "\n",
    "# Outline\n",
    "- [1 - Hamiltonian of the junction](#1)\n",
    "- [2 - NS' junction](#2)\n",
    "  - [2.1 Building the model with kwant](#2.1)\n",
    "  - [2.2 Spectrum and phase diagram](#2.2)\n",
    "  - [2.3 The scattering matrix](#2.3)\n",
    "  - [2.4 Conductance calculation](#2.4)\n",
    "- [3 - NS'S junction](#3)\n",
    "  - [3.1 Building the model with kwant](#3.1)\n",
    "  - [3.2 Conductance calculation](#3.2)\n",
    " "
   ]
  },
  {
   "cell_type": "markdown",
   "metadata": {},
   "source": [
    "<a name=\"1\"></a>\n",
    "# Hamiltonian of the junction\n",
    "\n",
    "In units where energy and distance are measured in terms of $E_{so}=\\frac{m^*\\alpha^2}{2\\hbar^2}$ and $\\lambda_{so}=\\frac{\\hbar^2}{\\alpha m^*}$, with $m^*$ and $\\alpha$ the effective mass and the spin-orbit coupling of the nanowire, the dimensionless hamiltonian of the junction reads\n",
    "\n",
    "\\begin{equation}\n",
    "\\mathcal{H} = \\Bigl[-\\partial_x^2 + 2i\\partial_x\\sigma_z + V(x) - \\mu(x)\\Bigl]\\tau_z + \\mathbf{m}(x)\\cdot\\boldsymbol{\\sigma} + \\Delta(x)\\tau_x,\n",
    "\\label{dimham}\\tag{1}\n",
    "\\end{equation}\n",
    "\n",
    "where $V(x)$ is a scalar potential simulating a barrier, $\\mu(x)$ the chemical potential, $\\mathbf{m}(x)$ the magnetization, and $\\Delta(x)$ the superconducting gap. We use the python package [kwant](https://kwant-project.org/) to build this junction and calculate the conductance. "
   ]
  },
  {
   "cell_type": "code",
   "execution_count": 1,
   "metadata": {},
   "outputs": [
    {
     "name": "stderr",
     "output_type": "stream",
     "text": [
      "C:\\Users\\victo\\anaconda3\\lib\\site-packages\\kwant\\solvers\\default.py:18: RuntimeWarning: MUMPS is not available, SciPy built-in solver will be used as a fallback. Performance can be very poor in this case.\n",
      "  \"Performance can be very poor in this case.\", RuntimeWarning)\n"
     ]
    }
   ],
   "source": [
    "import numpy as np\n",
    "import matplotlib.pyplot as plt\n",
    "import kwant\n",
    "import kwant.continuum\n",
    "import supp_func_kwant as sfk\n",
    "\n",
    "from ipywidgets import interactive"
   ]
  },
  {
   "cell_type": "markdown",
   "metadata": {},
   "source": [
    "<a name=\"2\"></a>\n",
    "## NS' junction\n",
    "\n",
    "Given that the hamiltonian of the junction is provided in terms of the continuous operators $\\mathbf{p}$ and $\\mathbf{r}$, i.e. in a continuous notation, we use the [continuum](https://kwant-project.org/doc/1/reference/kwant.continuum) module of kwant to declare and build this hamiltonian. In this section we consider a junction defined by the following quantities, $V(x)=0$,\n",
    "$$\\mu(x)=\\left\\{\n",
    "\\begin{array}{cl}\n",
    "\\mu_{sc} & x \\geq 0, \\\\\n",
    "\\mu_N & x < 0, \n",
    "\\end{array}\\right.$$\n",
    "\n",
    "$$\\mathbf{m}(x)=\\left\\{\n",
    "\\begin{array}{cl}\n",
    "m_0\\bigl(\\,\\sin{\\theta}\\cos{\\phi},\\sin{\\theta}\\sin{\\phi},\\cos{\\theta}\\,\\bigr) & x \\geq 0, \\\\\n",
    "0 & x <0,\n",
    "\\end{array}\\right.$$\n",
    "and\n",
    "$$\\Delta(x)=\\left\\{\n",
    "\\begin{array}{cl}\n",
    "\\Delta_0 & \\geq 0, \\\\\n",
    "0 & x < 0.\n",
    "\\end{array}\\right.$$\n",
    "\n",
    "<a name=\"2.1\"></a>\n",
    "## Building the model with kwant\n",
    "\n",
    "We build the infinite junction by attaching semi-infinite systems to a finite size system. The region where the finite size system is defined is usually called scattering region. The semi-infinite systems are called contacts or leads. In the following cells we define the hamiltonians of the sub-systems composing the junction. "
   ]
  },
  {
   "cell_type": "code",
   "execution_count": 2,
   "metadata": {},
   "outputs": [
    {
     "data": {
      "text/latex": [
       "$\\displaystyle \\left[\\begin{matrix}- 2 k_{x} + k_{x}^{2} + \\operatorname{m_{z}}{\\left(x,m_{0},\\theta,\\phi \\right)} - \\mu{\\left(x,\\mu_{N},\\mu_{sc} \\right)} & \\operatorname{m_{x}}{\\left(x,m_{0},\\theta,\\phi \\right)} - i \\operatorname{m_{y}}{\\left(x,m_{0},\\theta,\\phi \\right)} & \\Delta{\\left(x,\\Delta_{0} \\right)} & 0\\\\\\operatorname{m_{x}}{\\left(x,m_{0},\\theta,\\phi \\right)} + i \\operatorname{m_{y}}{\\left(x,m_{0},\\theta,\\phi \\right)} & 2 k_{x} + k_{x}^{2} - \\operatorname{m_{z}}{\\left(x,m_{0},\\theta,\\phi \\right)} - \\mu{\\left(x,\\mu_{N},\\mu_{sc} \\right)} & 0 & \\Delta{\\left(x,\\Delta_{0} \\right)}\\\\\\Delta{\\left(x,\\Delta_{0} \\right)} & 0 & 2 k_{x} - \\left(k_{x}^{2} - \\mu{\\left(x,\\mu_{N},\\mu_{sc} \\right)}\\right) + \\operatorname{m_{z}}{\\left(x,m_{0},\\theta,\\phi \\right)} & \\operatorname{m_{x}}{\\left(x,m_{0},\\theta,\\phi \\right)} - i \\operatorname{m_{y}}{\\left(x,m_{0},\\theta,\\phi \\right)}\\\\0 & \\Delta{\\left(x,\\Delta_{0} \\right)} & \\operatorname{m_{x}}{\\left(x,m_{0},\\theta,\\phi \\right)} + i \\operatorname{m_{y}}{\\left(x,m_{0},\\theta,\\phi \\right)} & - 2 k_{x} - \\left(k_{x}^{2} - \\mu{\\left(x,\\mu_{N},\\mu_{sc} \\right)}\\right) - \\operatorname{m_{z}}{\\left(x,m_{0},\\theta,\\phi \\right)}\\end{matrix}\\right]$"
      ],
      "text/plain": [
       "Matrix([\n",
       "[-2*k_x + k_x**2 + m_z(x, m0, theta, phi) - mu(x, mu_N, mu_sc),            m_x(x, m0, theta, phi) - I*m_y(x, m0, theta, phi),                                               Delta(x, Delta0),                                                               0],\n",
       "[            m_x(x, m0, theta, phi) + I*m_y(x, m0, theta, phi), 2*k_x + k_x**2 - m_z(x, m0, theta, phi) - mu(x, mu_N, mu_sc),                                                              0,                                                Delta(x, Delta0)],\n",
       "[                                             Delta(x, Delta0),                                                            0, 2*k_x - (k_x**2 - mu(x, mu_N, mu_sc)) + m_z(x, m0, theta, phi),               m_x(x, m0, theta, phi) - I*m_y(x, m0, theta, phi)],\n",
       "[                                                            0,                                             Delta(x, Delta0),              m_x(x, m0, theta, phi) + I*m_y(x, m0, theta, phi), -2*k_x - (k_x**2 - mu(x, mu_N, mu_sc)) - m_z(x, m0, theta, phi)]])"
      ]
     },
     "execution_count": 2,
     "metadata": {},
     "output_type": "execute_result"
    }
   ],
   "source": [
    "hamscatt = \"\"\"\n",
    "    (k_x**2 - mu(x, mu_N, mu_sc)) * kron(sigma_z, sigma_0)\n",
    "    - 2 * k_x * kron(sigma_z, sigma_z)\n",
    "    + Delta(x, Delta0) * kron(sigma_x, sigma_0)\n",
    "    + m_x(x,m0,theta,phi) * kron(sigma_0, sigma_x)\n",
    "    + m_y(x,m0,theta,phi) * kron(sigma_0, sigma_y)\n",
    "    + m_z(x,m0,theta,phi) * kron(sigma_0, sigma_z)\n",
    "\"\"\"\n",
    "\n",
    "hamiltonian = kwant.continuum.sympify(hamscatt)\n",
    "hamiltonian"
   ]
  },
  {
   "cell_type": "code",
   "execution_count": 3,
   "metadata": {},
   "outputs": [],
   "source": [
    "ham_str_nl = \"\"\"\n",
    "    (k_x**2 - mu_N) * kron(sigma_z, sigma_0)\n",
    "    - 2 * k_x * kron(sigma_z, sigma_z)\n",
    "\"\"\""
   ]
  },
  {
   "cell_type": "code",
   "execution_count": 4,
   "metadata": {},
   "outputs": [],
   "source": [
    "ham_str_scl = \"\"\"\n",
    "    (k_x**2 - mu_sc) * kron(sigma_z, sigma_0)\n",
    "    - 2 * k_x * kron(sigma_z, sigma_z)\n",
    "    + Delta0 * kron(sigma_x, sigma_0)\n",
    "    + m_x(L2,m0,theta,phi) * kron(sigma_0, sigma_x)\n",
    "    + m_y(L2,m0,theta,phi) * kron(sigma_0, sigma_y)\n",
    "    + m_z(L2,m0,theta,phi) * kron(sigma_0, sigma_z)\n",
    "\"\"\""
   ]
  },
  {
   "cell_type": "markdown",
   "metadata": {},
   "source": [
    "As already discussed in previous notebooks, the parameters entering in the string hamiltonians are provided to the algorithm in a python dictionary.   "
   ]
  },
  {
   "cell_type": "code",
   "execution_count": 5,
   "metadata": {},
   "outputs": [],
   "source": [
    "alat=0.25\n",
    "Lleft=-4;  Lright=8\n",
    "default = dict(Delta0=2.0, mu_N=2.0, mu_sc=4.0, m0=3.0, theta=0.3, phi=0.5, \n",
    "               mu=sfk.mu_f, Delta=sfk.delta_f, m_x=sfk.mx_f, m_y=sfk.my_f, m_z=sfk.mz_f,\n",
    "               L1=Lleft, L2=Lright)"
   ]
  },
  {
   "cell_type": "markdown",
   "metadata": {},
   "source": [
    "The function `K_junct()` builds the infinite junction from the string hamiltonians and some other important quantities. Notice the new parameter `conservation_law` of the class `Builder`. This parameter appears convenient in the calculation of the scattering matrix. If the semi-infinite systems have a symmetry, one can use a basis associated with that symmetry to project the scattering states into this basis.    "
   ]
  },
  {
   "cell_type": "code",
   "execution_count": 6,
   "metadata": {},
   "outputs": [],
   "source": [
    "def K_junct(leftL,rightL, alat, scat_reg, lead_left, lead_right):\n",
    "\n",
    "    def interval_shape(x_min, x_max):\n",
    "        def shape(site):\n",
    "            return x_min <= site.pos[0] <= x_max\n",
    "\n",
    "        return shape\n",
    "\n",
    "    def shape_lead(s): return s.pos[0] <= 0\n",
    "\n",
    "    eh_sym = np.diag([-1,-1,1,1])\n",
    "    \n",
    "    syst = kwant.Builder()\n",
    "    scatt_template = kwant.continuum.discretize(scat_reg, 'x', grid=alat)\n",
    "    syst.fill(\n",
    "        scatt_template,\n",
    "        shape=interval_shape(leftL, rightL),\n",
    "        start=[leftL],\n",
    "    )\n",
    "        \n",
    "    left_lead = kwant.Builder(kwant.TranslationalSymmetry([-alat]))\n",
    "    template_left_lead = kwant.continuum.discretize(\n",
    "        lead_left, 'x', grid=alat)\n",
    "    left_lead.fill(template_left_lead, shape_lead, (leftL,))\n",
    "    left_lead.conservation_law = eh_sym\n",
    "    syst.attach_lead(left_lead)\n",
    "        \n",
    "    right_lead = kwant.Builder(kwant.TranslationalSymmetry([alat]))\n",
    "    template_right_lead = kwant.continuum.discretize(\n",
    "        lead_right, 'x', grid=alat)\n",
    "    right_lead.fill(template_right_lead, shape_lead, (rightL,))\n",
    "    syst.attach_lead(right_lead)\n",
    "\n",
    "    return syst.finalized()"
   ]
  },
  {
   "cell_type": "code",
   "execution_count": 7,
   "metadata": {},
   "outputs": [
    {
     "data": {
      "image/png": "[encoded data removed]",
      "text/plain": [
       "<Figure size 432x288 with 1 Axes>"
      ]
     },
     "metadata": {
      "needs_background": "light"
     },
     "output_type": "display_data"
    },
    {
     "name": "stdout",
     "output_type": "stream",
     "text": [
      "Plotting the nodes and vertices of the lattice\n"
     ]
    }
   ],
   "source": [
    "latsyst = K_junct(Lleft,Lright, alat, \n",
    "                       scat_reg=hamscatt, lead_left=ham_str_nl, lead_right=ham_str_scl)\n",
    "kwant.plot(latsyst)\n",
    "print('Plotting the nodes and vertices of the lattice')"
   ]
  },
  {
   "cell_type": "markdown",
   "metadata": {},
   "source": [
    "The lines of code below check the profiles of the input functions."
   ]
  },
  {
   "cell_type": "code",
   "execution_count": 8,
   "metadata": {},
   "outputs": [
    {
     "data": {
      "image/png": "[encoded data removed]",
      "text/plain": [
       "<Figure size 864x216 with 3 Axes>"
      ]
     },
     "metadata": {
      "needs_background": "light"
     },
     "output_type": "display_data"
    }
   ],
   "source": [
    "from mpl_toolkits.mplot3d import Axes3D\n",
    "\n",
    "fig = plt.figure(figsize=(12,3))\n",
    "\n",
    "x_vals = np.linspace(Lleft,Lright, int((Lright-Lleft)/alat)+1)\n",
    "x_red = x_vals[::4]\n",
    "\n",
    "mu_vals = [sfk.mu_f(x, default.get('mu_N'),default.get('mu_sc')) for x in x_vals]\n",
    "\n",
    "mx_vals = np.array([sfk.mx_f(x, default.get('m0'),default.get('theta'),default.get('phi')) \n",
    "           for x in x_red])\n",
    "\n",
    "my_vals = np.array([sfk.my_f(x, default.get('m0'),default.get('theta'),default.get('phi')) \n",
    "           for x in x_red])\n",
    "\n",
    "mz_vals = np.array([sfk.mz_f(x, default.get('m0'),default.get('theta'),default.get('phi'))\n",
    "           for x in x_red])\n",
    "\n",
    "gap_vals = [sfk.delta_f(x, default.get('Delta0')) for x in x_vals]\n",
    "\n",
    "title_list = [r'$V(x)$',r'$\\mu(x)$',r'$\\Delta(x)$',r'$\\vec{m}(x)$']\n",
    "\n",
    "ax = fig.add_subplot(1, 4, 1)\n",
    "ax.plot(x_vals, mu_vals, '-', lw=2)\n",
    "ax.set_xlabel(r'$x/\\lambda_{so}$', fontsize=12)\n",
    "ax.set_title(title_list[1])\n",
    "    \n",
    "ay = fig.add_subplot(1, 4, 2)\n",
    "ay.plot(x_vals, gap_vals, '-', lw=2)\n",
    "ay.set_xlabel(r'$x/\\lambda_{so}$', fontsize=12)\n",
    "ay.set_title(title_list[2])\n",
    "\n",
    "az = fig.add_subplot(1, 4, (3,4), projection='3d')\n",
    "az.quiver(x_red,np.zeros(1),np.zeros(1),mx_vals,my_vals,mz_vals, length=0.012, linewidths=2)\n",
    "az.set_xlim(x_red[0],x_red[-1])\n",
    "az.set_ylim(-0.02,0.06)\n",
    "az.set_zlim(-0.02,0.04)\n",
    "az.set_yticks(np.linspace(-0.02,.06,5))\n",
    "az.set_zticks(np.linspace(-0.02,.06,5))\n",
    "az.set(xlabel=r'$x/\\lambda_{so}$', ylabel=r'$y/\\lambda_{so}$',zlabel=r'$z$')\n",
    "az.set_title(title_list[3])\n",
    "az.view_init(40,-60)"
   ]
  },
  {
   "cell_type": "markdown",
   "metadata": {},
   "source": [
    "<a name=\"2.2\"></a>\n",
    "## Spectrum and phase diagram\n",
    "\n",
    "After setting and checking the input functions let's simulate the NS' junction. The function below plots the energy in the leads (semi-infinite) regions. Given the homogeneity of the regions, $k_x$ is a conserved quantity (good quantum number) so one can plot the energy as a function of $k_x$."
   ]
  },
  {
   "cell_type": "code",
   "execution_count": 9,
   "metadata": {},
   "outputs": [],
   "source": [
    "def bands(chem,m_zero,polar):\n",
    "\n",
    "    default['mu_sc'] = chem\n",
    "    default['m0'] = m_zero\n",
    "    default['theta'] = polar\n",
    "    \n",
    "    xlim=8.0\n",
    "    D0 = default.get('Delta0')\n",
    "    \n",
    "    gapless = D0/np.cos(polar*np.pi)\n",
    "    \n",
    "    fig, sub = plt.subplots(1,3, figsize=(12,4))\n",
    "    kxarr = np.linspace(-1.09,1.09,123)\n",
    "\n",
    "    for ii in range(2):\n",
    "        kwant.plotter.bands(latsyst.leads[ii], params=default, momenta=kxarr, ax=sub[ii])\n",
    "        sub[ii].set_xlabel(r'$k_xa$', fontsize=12)\n",
    "        sub[ii].set_ylim(-8,8)\n",
    "\n",
    "    sfk.ph_diagram(sub[2], D0, polar, xlim)\n",
    "    \n",
    "    sub[1].plot(np.linspace(kxarr[0],kxarr[-1],17), np.zeros(17), '--k', alpha=0.4)\n",
    "    \n",
    "    sub[2].scatter(m_zero,chem, s=50, color='red')\n",
    "\n",
    "    sub[0].set_title('(a) Normal lead')\n",
    "    sub[0].set_ylabel(r'$E/E_{SO}$', fontsize=12)\n",
    "    sub[1].set_title('(b) Supercond lead')\n",
    "    sub[2].set_xlabel(r'$m_0/E_{so}$', fontsize=12)\n",
    "    sub[2].set_ylabel(r'$\\frac{\\mu}{E_{so}}$', fontsize=18, rotation='horizontal',labelpad=6)\n",
    "    sub[2].set_title('(c) Phase diagram')\n",
    "    \n",
    "    plt.show()"
   ]
  },
  {
   "cell_type": "code",
   "execution_count": 10,
   "metadata": {},
   "outputs": [
    {
     "data": {
      "application/vnd.jupyter.widget-view+json": {
       "model_id": "8186b4d13dec45fc990abd2b6a43fdd1",
       "version_major": 2,
       "version_minor": 0
      },
      "text/plain": [
       "interactive(children=(FloatSlider(value=0.0, description='chem', max=5.0, min=-5.0), FloatSlider(value=2.5, de…"
      ]
     },
     "metadata": {},
     "output_type": "display_data"
    }
   ],
   "source": [
    "w = interactive(bands, chem=(-5.0,5.0), m_zero=(0.0,5.0), polar=(0.1,0.5))\n",
    "display(w)"
   ]
  },
  {
   "cell_type": "markdown",
   "metadata": {},
   "source": [
    "Energy spectra of the bare nanowire and the ferromagnetic-superconducting nanowire, (a) and (b) respectively. (c) phase diagram of the ferromagnetic-superconducting nanowire. The buttons `chem`, `m_zero`, and `polar` allow the manipulation of parameters $\\mu_{sc}$, $m_0$, and $\\theta/\\pi,$ respectively. By sliding the buttons one can drive the nanowire to different phases. The lines separating the different phases are called transition lines, $\\mu^2 +\\Delta_0^2 = m_0^2$ and $\\Delta_0=m_0\\cos{\\theta}$. At these lines the gap closes. This is a known feature of systems with different topological phases, the transition between the phases is followed by a gap closing. TG (NTG) stands for trival gapped (nontrivial gapped), and TGL (NTGL) for trivial gapless (nontrivial gapless)."
   ]
  },
  {
   "cell_type": "markdown",
   "metadata": {},
   "source": [
    "<a name=\"2.3\"></a>\n",
    "## The scattering matrix\n",
    "\n",
    "To introduce the scattering matrix let's consider that superconductor S' is in any of the two gapped phases, i.e. $\\Delta_0<m_0\\cos{\\theta}$. Let's also consider energies within superconducting gap. Under these conditions, all states in S' are exponentially decaying (attenuated). Then, incident states from the normal metal are all reflected back, and since the right lead is a superconductor two cases are possible: electron and hole reflections. These scattering processes are also called normal and Andreev reflections, respectively. Now, how can we identify the incident and reflected states and normal and Andreev reflections? kwant defines the incident (reflected) states as those with positive (negative) velocity. Moreover, with the parameter `conservation_law` provided earlier, kwant knows that there is a symmetry ($\\tau_z$) that allows to project the incident and reflected states into the eigenstates of this symmetry. Since the eigenstates of $\\tau_z$ span electron and hole sub-spaces, incident and reflected states can be divided between electron and hole states. By collecting all these reflection processes in a matrix we arrive to the following form of the scattering matrix,\n",
    "\n",
    "$$\n",
    "S(E) = \\left(\n",
    "\\begin{array}{cc}\n",
    "\\hat{r}_{ee} & \\hat{r}_{he} \\\\\n",
    "\\hat{r}_{eh} & \\hat{r}_{hh}\n",
    "\\end{array}\n",
    "\\right),$$\n",
    "\n",
    "where $\\hat{r}_{ee}$ ($\\hat{r}_{he}$) account for all electron-electron (electron-hole) reflections. On the other hand, $\\hat{r}_{hh}$ ($\\hat{r}_{eh}$) account for all hole-hole (hole-electron) reflections. Let's define the function `scatt_labels()` to understand what are all the processes defining the scattering matrix.\n"
   ]
  },
  {
   "cell_type": "code",
   "execution_count": 11,
   "metadata": {},
   "outputs": [],
   "source": [
    "def scatt_labels(EE):\n",
    "    fig, sub = plt.subplots(1,1, figsize=(5,4))\n",
    "    kxarr = np.linspace(-1,1,177)\n",
    "\n",
    "    kwant.plotter.bands(latsyst.leads[0], params=default, momenta=kxarr, ax=sub)\n",
    "    sub.set_ylim(-5,5)\n",
    "    prop_modes = latsyst.leads[0].modes(params=default, energy=EE)\n",
    "    momentarr= prop_modes[0].momenta\n",
    "    velarr= prop_modes[0].velocities\n",
    "    q_cons= prop_modes[0].block_nmodes\n",
    "\n",
    "    vxx = np.sqrt(2)*np.cos(np.arctan(velarr))\n",
    "    vyy = np.sqrt(2)*np.sin(np.arctan(velarr))\n",
    "    nhlf = int(0.5*len(velarr))\n",
    "  \n",
    "    sub.plot(momentarr,EE*np.ones(len(momentarr)), 's', color='k', ms=8, label='momenta')\n",
    "    sub.plot(kxarr,EE*np.ones(len(kxarr)), '--k', alpha=0.5)\n",
    "    \n",
    "    clist = ['magenta','blue']\n",
    "    lslist = ['-', '--']\n",
    "    varbool = True\n",
    "    for mm in range(2):\n",
    "        for ll, jj in enumerate(range(0,nhlf+1,nhlf)):\n",
    "            for ii in range(q_cons[mm]):\n",
    "                sub.arrow(momentarr[jj+ii+mm*q_cons[0]],EE,vxx[jj+ii+mm*q_cons[0]],vyy[jj+ii+mm*q_cons[0]], \n",
    "                          width=0.05, length_includes_head=True, color=clist[ll], fill=varbool, ls=lslist[mm])\n",
    "        varbool = not varbool\n",
    "\n",
    "    sub.set_xlim(kxarr[0],kxarr[-1])\n",
    "    sub.set_ylabel(r'$E/E_{SO}$', fontsize=12)\n",
    "    sub.set_xlabel(r'$k_xa$', fontsize=12)\n",
    "    sub.legend()"
   ]
  },
  {
   "cell_type": "code",
   "execution_count": 12,
   "metadata": {},
   "outputs": [
    {
     "data": {
      "application/vnd.jupyter.widget-view+json": {
       "model_id": "2e9bb616252e4c849d4266bce4f69fe4",
       "version_major": 2,
       "version_minor": 0
      },
      "text/plain": [
       "interactive(children=(FloatSlider(value=0.0, description='EE', max=4.0, min=-4.0), Output()), _dom_classes=('w…"
      ]
     },
     "metadata": {},
     "output_type": "display_data"
    }
   ],
   "source": [
    "w = interactive(scatt_labels, EE=(-4.0,4.0))\n",
    "display(w)"
   ]
  },
  {
   "cell_type": "markdown",
   "metadata": {},
   "source": [
    "Energy as a function of momentum for the bare nanowire. Full (empty) arrows represent the velocity of the electrons (holes). States with positive (negative) velocities are taken by kwant as incident (reflected) states. For energies (E) within the inteval $[-3,3]$, the number of incident and reflected states is four, two from electrons and two from holes. The scattering matrix in this interval then has dimension $4\\times 4$. For $|E|>3$ the reflections are all normal. Electrons (holes) being reflected as electrons (holes) for $E>3$ $(E<-3)$. The user can slide the button `EE` to change the energy.  \n",
    "\n",
    "In kwant the function `smatrix(sys[, energy, args, out_leads, …])` from the library of [solvers](https://kwant-project.org/doc/1/reference/kwant.solvers) provides an object containing the scattering matrix and other information about the contacts. "
   ]
  },
  {
   "cell_type": "code",
   "execution_count": 13,
   "metadata": {},
   "outputs": [
    {
     "data": {
      "text/plain": [
       "array([[ 0.198-0.034j, -0.391+0.099j, -0.141-0.369j, -0.761-0.249j],\n",
       "       [ 0.387-0.105j, -0.751+0.268j,  0.092+0.188j,  0.39 +0.088j],\n",
       "       [-0.359+0.178j, -0.164+0.097j,  0.49 +0.635j, -0.4  -0.009j],\n",
       "       [ 0.187-0.777j,  0.063-0.401j,  0.396+0.015j, -0.131+0.15j ]])"
      ]
     },
     "execution_count": 13,
     "metadata": {},
     "output_type": "execute_result"
    }
   ],
   "source": [
    "Smtx = kwant.smatrix(latsyst, energy=1e-2, params=default)\n",
    "\n",
    "# the attribute `data` allows to retrieve the scattering matrix (values) \n",
    "np.round(Smtx.data, 3)"
   ]
  },
  {
   "cell_type": "code",
   "execution_count": 14,
   "metadata": {},
   "outputs": [
    {
     "data": {
      "text/plain": [
       "array([[ 0.198-0.034j, -0.391+0.099j],\n",
       "       [ 0.387-0.105j, -0.751+0.268j]])"
      ]
     },
     "execution_count": 14,
     "metadata": {},
     "output_type": "execute_result"
    }
   ],
   "source": [
    "# the method `submatrix()` alllows to retrieve subblocks of the scattering matrix.\n",
    "# The contacts have the following labels: normal contact (0), superconducting contact (1)\n",
    "# For example the electron-electron subblock of the reflection from and to the \n",
    "# normal contact is obtained as follows:\n",
    "np.round(Smtx.submatrix((0,0),(0,0)), 3)"
   ]
  },
  {
   "cell_type": "code",
   "execution_count": 15,
   "metadata": {},
   "outputs": [
    {
     "data": {
      "text/plain": [
       "array([[-0.359+0.178j, -0.164+0.097j],\n",
       "       [ 0.187-0.777j,  0.063-0.401j]])"
      ]
     },
     "execution_count": 15,
     "metadata": {},
     "output_type": "execute_result"
    }
   ],
   "source": [
    "# the electron-hole (e->h) subblock of the reflection from and to the \n",
    "# normal contact is obtained as follows:\n",
    "np.round(Smtx.submatrix((0,1),(0,0)), 3)"
   ]
  },
  {
   "cell_type": "code",
   "execution_count": 16,
   "metadata": {},
   "outputs": [
    {
     "data": {
      "text/plain": [
       "array([], shape=(0, 4), dtype=complex128)"
      ]
     },
     "execution_count": 16,
     "metadata": {},
     "output_type": "execute_result"
    }
   ],
   "source": [
    "# Given the energy and parameters provided, there is any  particle transmission\n",
    "# from contact 0 to contact 1, let's see that:\n",
    "np.round(Smtx.submatrix(1,0), 3)"
   ]
  },
  {
   "cell_type": "markdown",
   "metadata": {},
   "source": [
    "<a name=\"2.4\"></a>\n",
    "## Conductance calculation\n",
    "\n",
    "Let's consider some mesoscopic or nanoscale system connected to two contacts. The contacts act as reservoirs with well defined thermodynamic quantities, such as temperature and chemical potential. The conductance $G$ is the proportionality constant between the current $I$ flowing through the mesoscopic/nanoscale system and the voltage $V$ applied to the contacts, $I = G V$. The conductance depends on the parameters of the system but also on the geometry of the sample. The Landauer formula provides an expression for the current in terms of all the transmission amplitudes involved in the measurement, \n",
    "\n",
    "$$I = \\frac{e}{h}\\int_0^{\\infty} dE \\bigl(f_1(E) - f_2(E)\\bigr)\\mathrm{Tr}\\bigl[\\hat{t}(E)\\,\\hat{t}^{\\dagger}(E)\\bigr],$$\n",
    "\n",
    "where $f_i(E)=\\frac{1}{1+e^{(E-\\mu_i)/k_BT_i}}$ is the fermi distribution function of contact $i$, and $\\hat{t}(E)$ is the transmission subblock of the scattering matrix. In many textbooks $e$ is replaced by $2e$, that is when the system and contacts are spin degenerate. It is quite common to define an energy dependent conductance (the spectral conductance) as follows, \n",
    "$\\mathscr{G}(E)=\\frac{e^2}{h}\\mathrm{Tr}\\bigl[\\hat{t}(E)\\,\\hat{t}^{\\dagger}(E)\\bigr]$. An expression for the spectral conductance when the contacts or the mesoscopic system involve a superconductor reads, see [Beenakker](https://journals.aps.org/prb/abstract/10.1103/PhysRevB.46.12841) for details, \n",
    "\n",
    "\\begin{eqnarray}\n",
    "\\mathscr{G}(E) &=&\\frac{e^2}{h} \\mathrm{Tr}\\bigl[1 - \\hat{r}_{ee}^\\dagger(E) \\hat{r}_{ee}(E) + \n",
    "\\hat{r}_{he}^\\dagger(E) \\hat{r}_{he}(E)\\bigl],\\\\\n",
    "&=& \\frac{e^2}{h} \\bigl(N_{m} -  R_{ee}(E) + R_{he}(E)\\bigr),\n",
    "\\end{eqnarray}\n",
    "\n",
    "where $N_{m}$ is the number of propagating modes, and $R_{ee}$ ($R_{he}$) is the normal (Andreev) reflection spectral density. The function below plots $\\mathscr{G}$, $R_{ee}$, and $R_{he}$ for the $NS'$ junction."
   ]
  },
  {
   "cell_type": "code",
   "execution_count": 17,
   "metadata": {},
   "outputs": [],
   "source": [
    "def spect_diag_trans(chem,m_zero,polar):\n",
    "\n",
    "    default['mu_sc'] = chem\n",
    "    default['m0'] = m_zero\n",
    "    default['theta'] = polar\n",
    "    \n",
    "    xlim=8.0\n",
    "    D0 = default.get('Delta0')\n",
    "    \n",
    "    gapless = D0/np.cos(polar*np.pi)\n",
    "    \n",
    "    fig, sub = plt.subplots(1,3, figsize=(12,4))\n",
    "    kxarr = np.linspace(-1.0,1.0,99)\n",
    "    \n",
    "    gap = sfk.gap(default, alat, ham_str_scl)\n",
    "    \n",
    "    Earr, Traone, Tratwo, modes = sfk.cond_trans(latsyst,default,np.array([-gap,gap]),39)\n",
    "    \n",
    "    kwant.plotter.bands(latsyst.leads[1], params=default, momenta=kxarr, ax=sub[0])\n",
    "\n",
    "    sfk.ph_diagram(sub[1], D0, polar, xlim)\n",
    "    \n",
    "    for ii in range(-1,2,2):\n",
    "        sub[0].plot(np.linspace(kxarr[0],kxarr[-1],17), ii*gap*np.ones(17), '--k', alpha=0.8)\n",
    "    \n",
    "    sub[1].scatter(m_zero,chem, s=50, color='red')\n",
    "    sub[2].plot(Earr, Traone, 'k', label=r'$R_{ee}$')\n",
    "    sub[2].plot(Earr, Tratwo, 'b', label=r'$R_{he}$')\n",
    "    sub[2].plot(Earr, modes - Traone + Tratwo, 'm', label=r'$\\mathscr{G}$')\n",
    "    \n",
    "    sub[0].set_xlabel(r'$k_xa$', fontsize=12)\n",
    "    sub[0].set_ylabel(r'$E/E_{SO}$', fontsize=12)\n",
    "    sub[0].set_title('(a) Supercond lead')\n",
    "    sub[0].set_ylim(-4,4)\n",
    "    sub[1].set_xlabel(r'$m_0/E_{so}$', fontsize=12)\n",
    "    sub[1].set_ylabel(r'$\\frac{\\mu}{E_{so}}$', fontsize=18, rotation='horizontal',labelpad=6)\n",
    "    sub[1].set_title('(b) Phase diagram')\n",
    "    sub[2].set_xlabel(r'$E/E_{so}$', fontsize=12)\n",
    "    sub[2].legend(frameon=False, fontsize=14)\n",
    "    sub[2].set_title('(c)')\n",
    "    \n",
    "    plt.show()"
   ]
  },
  {
   "cell_type": "code",
   "execution_count": 18,
   "metadata": {},
   "outputs": [
    {
     "data": {
      "application/vnd.jupyter.widget-view+json": {
       "model_id": "89a95574429f4c2794f559d79104852c",
       "version_major": 2,
       "version_minor": 0
      },
      "text/plain": [
       "interactive(children=(FloatSlider(value=0.0, description='chem', max=5.0, min=-5.0), FloatSlider(value=2.5, de…"
      ]
     },
     "metadata": {},
     "output_type": "display_data"
    }
   ],
   "source": [
    "w = interactive(spect_diag_trans, chem=(-5.0,5.0), m_zero=(0.0,5.0), polar=(0.1,0.5))\n",
    "display(w)"
   ]
  },
  {
   "cell_type": "markdown",
   "metadata": {},
   "source": [
    "(a) Energy spectra of the ferromagnetic-superconducting nanowire. The dash lines show the energy gap. (b) phase diagram of the ferromagnetic-superconducting nanowire. TG (NTG) stands for trival gapped (nontrivial gapped), and TGL (NTGL) for trivial gapless (nontrivial gapless). The buttons `chem`, `m_zero`, and `polar` allow the manipulation of parameters  $\\mu_{sc}$, $m_0$, and $\\theta/\\pi$, respectively. (c) spectral conductance $\\mathscr{G}$, and the normal and Andreev reflection spectral densities, $R_{ee}$, and $R_{he}$, respectively.\n",
    "\n",
    "Notice that at zero energy and in the phase harboring Majoranas (the NTG phase) $R_{ee}=R_{he}=1$. Notice also that as consequence of $R_{ee}=R_{he}=1$, at zero energy the conductance is quantized to $\\frac{2e^2}{h}$, [He et al.](https://link.aps.org/doi/10.1103/PhysRevLett.112.037001) This quantization appears as distinctive feature of Majoranas [Prada et al.](https://www.nature.com/articles/s42254-020-0228-y) The user is encouraged to slide the buttons of the figure to drive the system, for example, to the TG phase and see that the conductance is not robustly quantized in this phase.   "
   ]
  },
  {
   "cell_type": "markdown",
   "metadata": {},
   "source": [
    "<a name=\"3\"></a>\n",
    "## NS'S junction\n",
    "\n",
    "In this section we consider a junction defined by the following quantities,\n",
    "\n",
    "$$V(x)=\\left\\{\n",
    "\\begin{array}{cl}\n",
    "V_0 & -L_b \\leq x < 0,\\\\\n",
    "0 & \\mathrm{elsewhere},\n",
    "\\end{array}\\right.$$ \n",
    "\n",
    "$$\\mu(x)=\\left\\{\n",
    "\\begin{array}{cl}\n",
    "\\mu_N & x < 0,\\\\\n",
    "\\mu_1 & 0 \\leq x \\leq L, \\\\\n",
    "\\mu_2 & x > L, \n",
    "\\end{array}\\right.$$ \n",
    "\n",
    "$$\\mathbf{m}(x)=\\left\\{\n",
    "\\begin{array}{cl}\n",
    "m_0\\bigl(\\,\\sin{\\theta}\\cos{\\phi},\\sin{\\theta}\\sin{\\phi},\\cos{\\theta}\\,\\bigr) & 0 \\leq x \\leq L,\\\\\n",
    "0 & \\mathrm{elsewhere},\n",
    "\\end{array}\\right.$$ \n",
    "and\n",
    "$$\\Delta(x)=\\left\\{\n",
    "\\begin{array}{cl}\n",
    "\\Delta_0 & \\geq 0, \\\\\n",
    "0 & x < 0.\n",
    "\\end{array}\\right.$$\n",
    "\n",
    "\n",
    "With the profile above the ferromagnetic-superconducting NW is finite and in the topologically nontrivial phase the system harbors two Majoranas, one at each end. Notice that a square potential barrier is introduced at the $NS'$ interface. The barrier controls the coupling of the subgap states in the superconductor to the electron and hole states in the normal metal.   \n",
    "\n",
    "<a name=\"3.1\"></a>\n",
    "## Building the model with kwant\n",
    "\n",
    "In the following cells we define the hamiltonians of the scattering region and the contacts. "
   ]
  },
  {
   "cell_type": "code",
   "execution_count": 19,
   "metadata": {},
   "outputs": [
    {
     "data": {
      "text/latex": [
       "$\\displaystyle \\left[\\begin{matrix}- 2 k_{x} + k_{x}^{2} + V{\\left(x,L_{b},V_{0} \\right)} + \\operatorname{m_{z}}{\\left(x,L,m_{0},\\theta,\\phi \\right)} - \\mu{\\left(x,L,\\mu_{N},\\mu_{1},\\mu_{2} \\right)} & \\operatorname{m_{x}}{\\left(x,L,m_{0},\\theta,\\phi \\right)} - i \\operatorname{m_{y}}{\\left(x,L,m_{0},\\theta,\\phi \\right)} & \\Delta{\\left(x,\\Delta_{0} \\right)} & 0\\\\\\operatorname{m_{x}}{\\left(x,L,m_{0},\\theta,\\phi \\right)} + i \\operatorname{m_{y}}{\\left(x,L,m_{0},\\theta,\\phi \\right)} & 2 k_{x} + k_{x}^{2} + V{\\left(x,L_{b},V_{0} \\right)} - \\operatorname{m_{z}}{\\left(x,L,m_{0},\\theta,\\phi \\right)} - \\mu{\\left(x,L,\\mu_{N},\\mu_{1},\\mu_{2} \\right)} & 0 & \\Delta{\\left(x,\\Delta_{0} \\right)}\\\\\\Delta{\\left(x,\\Delta_{0} \\right)} & 0 & 2 k_{x} - \\left(k_{x}^{2} + V{\\left(x,L_{b},V_{0} \\right)} - \\mu{\\left(x,L,\\mu_{N},\\mu_{1},\\mu_{2} \\right)}\\right) + \\operatorname{m_{z}}{\\left(x,L,m_{0},\\theta,\\phi \\right)} & \\operatorname{m_{x}}{\\left(x,L,m_{0},\\theta,\\phi \\right)} - i \\operatorname{m_{y}}{\\left(x,L,m_{0},\\theta,\\phi \\right)}\\\\0 & \\Delta{\\left(x,\\Delta_{0} \\right)} & \\operatorname{m_{x}}{\\left(x,L,m_{0},\\theta,\\phi \\right)} + i \\operatorname{m_{y}}{\\left(x,L,m_{0},\\theta,\\phi \\right)} & - 2 k_{x} - \\left(k_{x}^{2} + V{\\left(x,L_{b},V_{0} \\right)} - \\mu{\\left(x,L,\\mu_{N},\\mu_{1},\\mu_{2} \\right)}\\right) - \\operatorname{m_{z}}{\\left(x,L,m_{0},\\theta,\\phi \\right)}\\end{matrix}\\right]$"
      ],
      "text/plain": [
       "Matrix([\n",
       "[-2*k_x + k_x**2 + V(x, L_b, V_0) + m_z(x, L, m0, theta, phi) - mu(x, L, mu_N, mu_1, mu_2),                                  m_x(x, L, m0, theta, phi) - I*m_y(x, L, m0, theta, phi),                                                                           Delta(x, Delta0),                                                                                           0],\n",
       "[                                  m_x(x, L, m0, theta, phi) + I*m_y(x, L, m0, theta, phi), 2*k_x + k_x**2 + V(x, L_b, V_0) - m_z(x, L, m0, theta, phi) - mu(x, L, mu_N, mu_1, mu_2),                                                                                          0,                                                                            Delta(x, Delta0)],\n",
       "[                                                                         Delta(x, Delta0),                                                                                        0, 2*k_x - (k_x**2 + V(x, L_b, V_0) - mu(x, L, mu_N, mu_1, mu_2)) + m_z(x, L, m0, theta, phi),                                     m_x(x, L, m0, theta, phi) - I*m_y(x, L, m0, theta, phi)],\n",
       "[                                                                                        0,                                                                         Delta(x, Delta0),                                    m_x(x, L, m0, theta, phi) + I*m_y(x, L, m0, theta, phi), -2*k_x - (k_x**2 + V(x, L_b, V_0) - mu(x, L, mu_N, mu_1, mu_2)) - m_z(x, L, m0, theta, phi)]])"
      ]
     },
     "execution_count": 19,
     "metadata": {},
     "output_type": "execute_result"
    }
   ],
   "source": [
    "hamscatt = \"\"\"\n",
    "    (k_x**2 + V(x,L_b,V_0)- mu(x, L,mu_N, mu_1,mu_2)) * kron(sigma_z, sigma_0)\n",
    "    - 2 * k_x * kron(sigma_z, sigma_z)\n",
    "    + Delta(x, Delta0) * kron(sigma_x, sigma_0)\n",
    "    + m_x(x,L,m0,theta,phi) * kron(sigma_0, sigma_x)\n",
    "    + m_y(x,L,m0,theta,phi) * kron(sigma_0, sigma_y)\n",
    "    + m_z(x,L,m0,theta,phi) * kron(sigma_0, sigma_z)\n",
    "\"\"\"\n",
    "\n",
    "hamiltonian = kwant.continuum.sympify(hamscatt)\n",
    "hamiltonian"
   ]
  },
  {
   "cell_type": "code",
   "execution_count": 20,
   "metadata": {},
   "outputs": [],
   "source": [
    "ham_str_nl = \"\"\"\n",
    "    (k_x**2 - mu_N) * kron(sigma_z, sigma_0)\n",
    "    - 2 * k_x * kron(sigma_z, sigma_z)\n",
    "\"\"\""
   ]
  },
  {
   "cell_type": "code",
   "execution_count": 21,
   "metadata": {},
   "outputs": [],
   "source": [
    "ham_str_scl = \"\"\"\n",
    "    (k_x**2 - mu_2) * kron(sigma_z, sigma_0)\n",
    "    - 2 * k_x * kron(sigma_z, sigma_z)\n",
    "    + Delta0 * kron(sigma_x, sigma_0)\n",
    "\"\"\""
   ]
  },
  {
   "cell_type": "code",
   "execution_count": 22,
   "metadata": {},
   "outputs": [],
   "source": [
    "alat=0.25\n",
    "Lleft=-4;  Lright=12\n",
    "default = dict(Delta0=2.0, V_0=2, mu_N=2.0, mu_1=1.0, mu_2=4.0, m0=3.0, theta=0.3, phi=0.5, \n",
    "               V=sfk.V_rect, mu=sfk.mu_g, Delta=sfk.delta_f, m_x=sfk.mx_g, m_y=sfk.my_g, m_z=sfk.mz_g,\n",
    "               L=Lright, L_b=2)"
   ]
  },
  {
   "cell_type": "markdown",
   "metadata": {},
   "source": [
    "We use the already defined function `K_junct()` to build the tight binding system associated to the junction."
   ]
  },
  {
   "cell_type": "code",
   "execution_count": 23,
   "metadata": {},
   "outputs": [],
   "source": [
    "latsyst = K_junct(Lleft,Lright, alat, \n",
    "                       scat_reg=hamscatt, lead_left=ham_str_nl, lead_right=ham_str_scl)"
   ]
  },
  {
   "cell_type": "markdown",
   "metadata": {},
   "source": [
    "Let's plot the spatial profiles of $V(x)$, $\\mu(x)$, $\\mathbf{m}(x)$, and $\\Delta(x)$ to check that the functions are well set."
   ]
  },
  {
   "cell_type": "code",
   "execution_count": 24,
   "metadata": {},
   "outputs": [
    {
     "data": {
      "image/png": "[encoded data removed]",
      "text/plain": [
       "<Figure size 1008x216 with 4 Axes>"
      ]
     },
     "metadata": {
      "needs_background": "light"
     },
     "output_type": "display_data"
    }
   ],
   "source": [
    "from mpl_toolkits.mplot3d import Axes3D\n",
    "\n",
    "fig = plt.figure(figsize=(14,3))\n",
    "\n",
    "x_vals = np.linspace(Lleft,Lright+8*alat, int((Lright-Lleft)/alat)+9)\n",
    "x_red = x_vals[::4]\n",
    "\n",
    "barr_vals = [sfk.V_rect(x, default.get('L_b'), default.get('V_0'))\n",
    "             for x in x_vals]\n",
    "\n",
    "mu_vals = [sfk.mu_g(x, default.get('L'), default.get('mu_N'), default.get('mu_1'),default.get('mu_2'))\n",
    "           for x in x_vals]\n",
    "\n",
    "mx_vals = np.array([sfk.mx_g(x, default.get('L'), default.get('m0'),default.get('theta'),default.get('phi')) \n",
    "           for x in x_red])\n",
    "\n",
    "my_vals = np.array([sfk.my_g(x, default.get('L'), default.get('m0'),default.get('theta'),default.get('phi')) \n",
    "           for x in x_red])\n",
    "\n",
    "mz_vals = np.array([sfk.mz_g(x, default.get('L'), default.get('m0'),default.get('theta'),default.get('phi'))\n",
    "           for x in x_red])\n",
    "\n",
    "gap_vals = [sfk.delta_f(x, default.get('Delta0')) for x in x_vals]\n",
    "\n",
    "title_list = [r'$V(x)$',r'$\\mu(x)$',r'$\\Delta(x)$',r'$\\vec{m}(x)$']\n",
    "\n",
    "ax = fig.add_subplot(1, 5, 1)\n",
    "ax.plot(x_vals, barr_vals, '-', lw=2)\n",
    "ax.set_xlabel(r'$x/\\lambda_{so}$', fontsize=12)\n",
    "ax.set_title(title_list[0])\n",
    "\n",
    "ax = fig.add_subplot(1, 5, 2)\n",
    "ax.plot(x_vals, mu_vals, '-', lw=2)\n",
    "ax.set_xlabel(r'$x/\\lambda_{so}$', fontsize=12)\n",
    "ax.set_title(title_list[1])\n",
    "    \n",
    "ay = fig.add_subplot(1, 5, 3)\n",
    "ay.plot(x_vals, gap_vals, '-', lw=2)\n",
    "ay.set_xlabel(r'$x/\\lambda_{so}$', fontsize=12)\n",
    "ay.set_title(title_list[2])\n",
    "\n",
    "az = fig.add_subplot(1, 5, (4,5), projection='3d')\n",
    "az.quiver(x_red,np.zeros(1),np.zeros(1),mx_vals,my_vals,mz_vals, length=0.012, linewidths=2)\n",
    "az.set_xlim(x_red[0],x_red[-1])\n",
    "az.set_ylim(-0.02,0.06)\n",
    "az.set_zlim(-0.02,0.04)\n",
    "az.set_yticks(np.linspace(-0.02,.06,5))\n",
    "az.set_zticks(np.linspace(-0.02,.06,5))\n",
    "az.set(xlabel=r'$x/\\lambda_{so}$', ylabel=r'$y/\\lambda_{so}$',zlabel=r'$z$')\n",
    "az.set_title(title_list[3])\n",
    "az.view_init(20,-60)"
   ]
  },
  {
   "cell_type": "markdown",
   "metadata": {},
   "source": [
    "Let's plot the energy spectrum of the contacts to check that they are well set."
   ]
  },
  {
   "cell_type": "code",
   "execution_count": 25,
   "metadata": {},
   "outputs": [
    {
     "data": {
      "image/png": "[encoded data removed]",
      "text/plain": [
       "<Figure size 648x288 with 2 Axes>"
      ]
     },
     "metadata": {
      "needs_background": "light"
     },
     "output_type": "display_data"
    }
   ],
   "source": [
    "xlim=8.0\n",
    "D0 = default.get('Delta0')\n",
    "\n",
    "fig, sub = plt.subplots(1,2, figsize=(9,4))\n",
    "kxarr = np.linspace(-1.1,1.1,123)\n",
    "\n",
    "for ii in range(2):\n",
    "    kwant.plotter.bands(latsyst.leads[ii], params=default, momenta=kxarr, ax=sub[ii])\n",
    "    sub[ii].set_xlabel(r'$k_xa$', fontsize=12)\n",
    "    sub[ii].set_ylim(-8,8)\n",
    "\n",
    "sub[1].plot(np.linspace(kxarr[0],kxarr[-1],17), np.zeros(17), '--k', alpha=0.4)\n",
    "\n",
    "\n",
    "sub[0].set_title('Normal lead')\n",
    "sub[0].set_ylabel(r'$E/E_{SO}$', fontsize=12)\n",
    "sub[1].set_title('Supercond lead')\n",
    "\n",
    "plt.show()"
   ]
  },
  {
   "cell_type": "markdown",
   "metadata": {},
   "source": [
    "Energy spectrum of the normal $N$ and superconducting $S$ contacts.\n",
    "\n",
    "Let's now plot the the spectral conductance of the $NS'S$ junction. "
   ]
  },
  {
   "cell_type": "code",
   "execution_count": 26,
   "metadata": {},
   "outputs": [],
   "source": [
    "def diag_trans_finite(chem,polar, barr):\n",
    "    \n",
    "    default['mu_1'] = chem\n",
    "    default['theta'] = polar\n",
    "    default['V_0'] = barr    \n",
    "    \n",
    "    fig, sub = plt.subplots(1,2, figsize=(9.4,4))\n",
    "\n",
    "    polar = default['theta'] \n",
    "\n",
    "    xlim=8.0\n",
    "    D0 = default.get('Delta0')\n",
    "    gapless = D0/np.cos(polar*np.pi) \n",
    "\n",
    "    sfk.ph_diagram(sub[0], D0, polar, xlim)\n",
    "\n",
    "    m0arr = np.linspace(1.15*D0,0.9*gapless,5)\n",
    "    Elims= [0,0.15*default.get('Delta0')]\n",
    "    marklist = ['o','s','v','p','>']\n",
    "    for ii, mzero in enumerate(m0arr):\n",
    "        default['m0'] = mzero\n",
    "        arrE, arrTee, arrThe, arrmds = sfk.cond_trans(latsyst, default, Elims, 43)\n",
    "        cond = arrmds-arrTee+arrThe\n",
    "        sub[1].plot(np.append(-arrE[::-1],arrE[1:]),np.append(cond[::-1],cond[1:]), \n",
    "                    label=r'$m_0/E_{so}\\!=\\!$'+str.format('{:.2f}',mzero))\n",
    "        sub[0].scatter(mzero,default.get('mu_1'), marker=marklist[ii], s=60, color='C'+str(ii))\n",
    "    \n",
    "    sub[0].set_title('(a)')\n",
    "    sub[0].set_xlabel(r'$m_0/E_{so}$', fontsize=12)\n",
    "    sub[0].set_ylabel(r'$\\frac{\\mu}{E_{so}}$', fontsize=18, rotation='horizontal',labelpad=6)\n",
    "    sub[1].set_title('(b)')\n",
    "    sub[1].set_xlabel(r'$E/E_{SO}$', fontsize=12)\n",
    "    sub[1].set_ylim(0,4)\n",
    "    sub[1].set_yticks(np.linspace(0,4,9))\n",
    "    sub[1].set_ylabel(r'$\\mathscr{G}$', fontsize=18, rotation='horizontal',labelpad=11)\n",
    "    sub[1].legend(frameon=False)\n"
   ]
  },
  {
   "cell_type": "code",
   "execution_count": 27,
   "metadata": {},
   "outputs": [
    {
     "data": {
      "application/vnd.jupyter.widget-view+json": {
       "model_id": "9c66f4ad61904831af48b423444282be",
       "version_major": 2,
       "version_minor": 0
      },
      "text/plain": [
       "interactive(children=(FloatSlider(value=0.0, description='chem', max=5.0, min=-5.0), FloatSlider(value=0.30000…"
      ]
     },
     "metadata": {},
     "output_type": "display_data"
    }
   ],
   "source": [
    "w = interactive(diag_trans_finite, chem=(-5.0,5.0), polar=(0.1,0.5), barr=(0.0,4.0))\n",
    "display(w)"
   ]
  },
  {
   "cell_type": "markdown",
   "metadata": {},
   "source": [
    "(a) Phase diagram of the ferromagnetic-superconducting nanowire. TG (NTG) stands for trival gapped (nontrivial gapped), and TGL (NTGL) for trivial gapless (nontrivial gapless). The buttons `chem`, `polar`, and `barr` allow the manipulation of parameters  $\\mu_1$, $\\theta/\\pi$, and $V_0$, respectively. Colored symbols indicate five different values of $m_0$ between $\\Delta_0$ and $\\Delta_0/\\!\\cos{\\theta}$. (b) Spectral conductance $\\mathscr{G}$ for the five different values of $m_0$ in panel (a).       \n",
    "\n",
    "Notice that the spectral conductance at $E=0$ takes different values as $m_0$ changes. This is a consequence of the hybridization between the Majoranas at the two edges [Das Sarma et al.](https://journals.aps.org/prb/abstract/10.1103/PhysRevB.86.220506)  [Rainis et al.](https://journals.aps.org/prb/abstract/10.1103/PhysRevB.87.024515) and [Prada et al.](https://journals.aps.org/prb/abstract/10.1103/PhysRevB.86.180503) Increasing the length ($L$) of the ferromagnetic-superconducting NW will decrease the linewidth of the peak/dip. In the limit where $L \\rightarrow \\infty$ one should recover the quantization $\\frac{2e}{h}$ of the $NS'$ junction. \n",
    "\n",
    "Users are encouraged to increase the potential barrier by sliding the button `barr` to see how the width of the resonance peak changes. Another suggestion is to increase the precession cone angle to $0.4$ to have $m_0$'s more spaced. Finally, an increase in $\\mu_1$ to have some of the five points in the TG phase is recommended."
   ]
  },
  {
   "cell_type": "code",
   "execution_count": null,
   "metadata": {},
   "outputs": [],
   "source": []
  }
 ],
 "metadata": {
  "kernelspec": {
   "display_name": "Python 3",
   "language": "python",
   "name": "python3"
  },
  "language_info": {
   "codemirror_mode": {
    "name": "ipython",
    "version": 3
   },
   "file_extension": ".py",
   "mimetype": "text/x-python",
   "name": "python",
   "nbconvert_exporter": "python",
   "pygments_lexer": "ipython3",
   "version": "3.7.6"
  }
 },
 "nbformat": 4,
 "nbformat_minor": 4
}
