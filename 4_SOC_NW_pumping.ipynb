{
 "cells": [
  {
   "cell_type": "markdown",
   "metadata": {},
   "source": [
    "In this notebook we investigate the charge and spin pumping in junctions harboring Majorana zero energy modes. The junctions are infinite and of the type NS' or NS'S, where N stands for normal metal, S for superconductor and S' for  superconductor coexisting with ferromagnetism. The normal metal cosidered is a one-dimensional nanowire with strong spin-orbit coupling. The ferromagnetic superconductor is described by the [Lutchyn](https://link.aps.org/doi/10.1103/PhysRevLett.105.077001)-[Oreg](https://link.aps.org/doi/10.1103/PhysRevLett.105.177002) hamiltonian. The pumped quantities are calculated within the adiabatic limit using the Buttiker-Pretre-Thomas formula.\n",
    "\n",
    "To know more about adiabatic pumping the following references are recommended:\n",
    "- Current partition in multiprobe conductors in the presence of slowly oscillating external potentials, [Buttiker-Pretre-Thomas](https://link.springer.com/article/10.1007/BF01307664).\n",
    "- Charge pumping in mesoscopic systems coupled to a superconducting lead, [Blaauboer](https://journals.aps.org/prb/abstract/10.1103/PhysRevB.65.235318).\n",
    "- Scattering approach to parametric pumping, [Brower](https://journals.aps.org/prb/abstract/10.1103/PhysRevB.58.R10135).\n",
    "- Enhanced Gilbert Damping in Thin Ferromagnetic Films, [Tserkovnyak et al.](https://journals.aps.org/prl/abstract/10.1103/PhysRevLett.88.117601)\n",
    "\n",
    "# Outline\n",
    "- [1 - Adiabatic pumping](#1)\n",
    "  - [1.1 Charge pumping in superconducting junctions ](#1.1)\n",
    "  - [1.2 Spin pumping in magnetic junctions ](#1.2)\n",
    "- [2 - NS' junction](#2)\n",
    "  - [2.1 Building the model with kwant](#2.1)\n",
    "  - [2.2 Particle-hole symmetry](#2.2)\n",
    "  - [2.2 Parametric evolution of the scattering matrix](#2.3)"
   ]
  },
  {
   "cell_type": "markdown",
   "metadata": {},
   "source": [
    "<a name=\"1\"></a>\n",
    "# Adiabatic pumping\n",
    "\n",
    "<a name=\"1.1\"></a>\n",
    "## Charge pumping in superconducting junctions\n",
    "\n",
    "In units where energy and distance are measured in terms of $E_{so}=\\frac{m^*\\alpha^2}{2\\hbar^2}$ and $\\lambda_{so}=\\frac{\\hbar^2}{\\alpha m^*}$, with $m^*$ and $\\alpha$ the effective mass and the spin-orbit coupling of the nanowire, the dimensionless hamiltonian of the junction reads\n",
    "\n",
    "\\begin{equation}\n",
    "\\mathcal{H}(t) = \\Bigl[-\\partial_x^2 + 2i\\partial_x\\sigma_z + V(x) - \\mu(x)\\Bigl]\\tau_z + \\mathbf{m}(x,t)\\cdot\\boldsymbol{\\sigma} + \\Delta(x)\\tau_x,\n",
    "\\label{dimham}\\tag{1}\n",
    "\\end{equation}\n",
    "\n",
    "where $V(x)$ is a scalar potential simulating a barrier, $\\mu(x)$ the chemical potential, $\\mathbf{m}(x,t)$ the magnetization, and $\\Delta(x)$ the superconducting gap. We consider that the magnetization is periodic in time, i.e. $\\mathbf{m}(x,t+2\\pi/\\omega)=\\mathbf{m}(x,t)$, with $\\omega$ the angular frequency of the driving field, which we also consider to be much smaller than the inverse of the dwelling time of the particles in the system, i.e. $\\omega/2\\pi \\ll \\tau_{dwell}^{-1}$. Last assumption ensures that the system maintains equilibrium or near-equilibrium during the pumping cycle. It forms the basis of what is called the adiabatic approximation. Charge and spin pumping can then be obtained from all instantaneous energies and eigenstates along the system evolution. Based on the [Buttiker-Pretre-Thomas](https://link.springer.com/article/10.1007/BF01307664) formalism, [Blaauboer](https://journals.aps.org/prb/abstract/10.1103/PhysRevB.65.235318) obtained an expression for the charge pumped out of a NS junction when the periodic parameres $X_1(t)$ and $X_2(t)$ are adiabatically changed,     \n",
    "\n",
    "\\begin{equation}\n",
    "\\delta \\mathcal{Q}(t) = \\frac{e}{2\\pi} \\mathrm{Im} \\Bigl \\{\\mathrm{Tr} \\Bigl[\n",
    "\\Bigl(\\frac{\\partial \\hat{r}_{ee}}{\\partial X_1}\\hat{r}_{ee}^{\\dagger} \n",
    "-\\frac{\\partial \\hat{r}_{he}}{\\partial X_1}\\hat{r}_{he}^{\\dagger}\\Bigr)\\delta X_1(t)\n",
    "+\\Bigl(\\frac{\\partial \\hat{r}_{ee}}{\\partial X_2}\\hat{r}_{ee}^{\\dagger} \n",
    "-\\frac{\\partial \\hat{r}_{he}}{\\partial X_2}\\hat{r}_{he}^{\\dagger}\\Bigr)\\delta X_2(t)\n",
    "\\Bigr]\\Bigr\\},\n",
    "\\label{dqpump}\\tag{2}\n",
    "\\end{equation}\n",
    "\n",
    "where $\\hat{r}_{ee}$  and $\\hat{r}_{he}$ are the normal and Andreev reflection blocks of the scattering matrix, respectively. Introducing the parametric space vector $\\vec{X}(t)=(X_1(t),X_2(t))$, Eq. (\\ref{dqpump}) becomes \n",
    "\n",
    "\\begin{equation}\n",
    "\\delta \\mathcal{Q}(t) = \\frac{e}{2\\pi} \\mathrm{Im} \\Bigl \\{\\mathrm{Tr}\\Bigl[\n",
    "\\frac{\\partial \\hat{r}_{ee}}{\\partial \\vec{X}}\\hat{r}_{ee}^{\\dagger} \n",
    "-\\frac{\\partial \\hat{r}_{he}}{\\partial \\vec{X}}\\hat{r}_{he}^{\\dagger} \\Bigr]\\Bigr\\} \\delta\\vec{X}(t).\n",
    "\\label{dqpump_vec}\\tag{3}\n",
    "\\end{equation}\n",
    "\n",
    "The total charge pumped into the normal contact is obtained after integrating Eq. (\\ref{dqpump_vec}) over time. \n",
    "The periodicity of $\\vec{X}(t)$ and the time integration over a full cycle allows to obtain an expression for the total pumped charge as a line integral over a closed path in the parametric space,  \n",
    "\n",
    "\\begin{eqnarray}\n",
    "\\mathcal{Q} &=& \\frac{e}{2\\pi} \\int_0^{2\\pi/\\omega} \\!dt\\, \\mathrm{Im}\\Bigl\\{ \\mathrm{Tr}\\Bigl[\n",
    "\\frac{\\partial \\hat{r}_{ee}}{\\partial \\vec{X}}\\hat{r}_{ee}^{\\dagger} \n",
    "-\\frac{\\partial \\hat{r}_{he}}{\\partial \\vec{X}}\\hat{r}_{he}^{\\dagger} \\Bigr]\\Bigr\\} \\frac{d\\vec{X}}{dt}, \\nonumber\\\\\n",
    "&=& \\frac{e}{2\\pi} \\oint \\mathrm{Im} \\Bigl\\{ \\mathrm{Tr}\\Bigl[\n",
    "\\frac{\\partial \\hat{r}_{ee}}{\\partial \\vec{X}}\\hat{r}_{ee}^{\\dagger} \n",
    "-\\frac{\\partial \\hat{r}_{he}}{\\partial \\vec{X}}\\hat{r}_{he}^{\\dagger} \\Bigr]\\Bigr\\} d\\vec{X}.\n",
    "\\label{lineint}\\tag{4}\n",
    "\\end{eqnarray}\n",
    "\n",
    "Now, according to Stokes theorem the line integral of Eq. (\\ref{lineint}) can be transformed to a surface integral (see [Brower](https://journals.aps.org/prb/abstract/10.1103/PhysRevB.58.R10135)) \n",
    "\n",
    "$$\\mathcal{Q} = \\frac{e}{2\\pi} \\int \\mathrm{Im} \\Bigl\\{ \\mathrm{Tr} \\Bigl [\n",
    "\\frac{\\partial \\hat{r}_{ee}}{\\partial X_2}\\frac{\\partial \\hat{r}_{ee}^{\\dagger}}{\\partial X_1} \n",
    "-\\frac{\\partial \\hat{r}_{ee}}{\\partial X_1}\\frac{\\partial \\hat{r}_{ee}^{\\dagger}}{\\partial X_2} \n",
    "+\\frac{\\partial \\hat{r}_{he}}{\\partial X_1}\\frac{\\partial \\hat{r}_{he}^{\\dagger}}{\\partial X_2} \n",
    "-\\frac{\\partial \\hat{r}_{he}}{\\partial X_2}\\frac{\\partial \\hat{r}_{he}^{\\dagger}}{\\partial X_1} \n",
    "\\Bigr] \\Bigr\\}dX_1 dX_2.$$\n",
    "\n",
    "Let's use properties of the trace and hermitian matrices to simplify the expression for the pumped current,\n",
    "\n",
    "\\begin{eqnarray}\n",
    "\\mathcal{Q}&=& \\frac{e}{2\\pi} \\int \\mathrm{Im} \\Bigl\\{ \\mathrm{Tr} \\Bigl [\n",
    "\\frac{\\partial \\hat{r}_{ee}}{\\partial X_2}\\frac{\\partial \\hat{r}_{ee}^{\\dagger}}{\\partial X_1} \n",
    "-\\Bigl(\n",
    "\\frac{\\partial \\hat{r}_{ee}}{\\partial X_2}\\frac{\\partial \\hat{r}_{ee}^{\\dagger}}{\\partial X_1}\n",
    "\\Bigr)^{\\dagger} \n",
    "+\\Bigl(\n",
    "\\frac{\\partial \\hat{r}_{he}}{\\partial X_2}\\frac{\\partial \\hat{r}_{he}^{\\dagger}}{\\partial X_1} \n",
    "\\Bigr)^{\\dagger}\n",
    "-\\frac{\\partial \\hat{r}_{he}}{\\partial X_2}\\frac{\\partial \\hat{r}_{he}^{\\dagger}}{\\partial X_1} \n",
    "\\Bigr] \\Bigr\\}dX_1 dX_2, \\nonumber\\\\\n",
    "&=& \\frac{e}{2\\pi} \\int \\mathrm{Im} \\Bigl\\{ \\mathrm{Tr} \\Bigl[\n",
    "\\frac{\\partial \\hat{r}_{ee}}{\\partial X_2}\\frac{\\partial \\hat{r}_{ee}^{\\dagger}}{\\partial X_1}\\Bigr] \n",
    "-\\mathrm{c.c.}  - \\mathrm{Tr} \\Bigl[\n",
    "\\frac{\\partial \\hat{r}_{he}}{\\partial X_2}\\frac{\\partial \\hat{r}_{he}^{\\dagger}}{\\partial X_1}\\Bigr] \n",
    "+\\mathrm{c.c} \\Bigr\\}dX_1 dX_2, \\nonumber\\\\\n",
    "&=& \\frac{e}{\\pi} \\int \\mathrm{Im} \\Bigl\\{ \\mathrm{Tr} \\Bigl[\n",
    "\\frac{\\partial \\hat{r}_{ee}}{\\partial X_2}\\frac{\\partial \\hat{r}_{ee}^{\\dagger}}{\\partial X_1} \n",
    "-\\frac{\\partial \\hat{r}_{he}}{\\partial X_2}\\frac{\\partial \\hat{r}_{he}^{\\dagger}}{\\partial X_1}\\Bigr] \n",
    "\\Bigr\\}dX_1 dX_2. \\label{surfint}\\tag{5}\n",
    "\\end{eqnarray}\n",
    "\n",
    "To sum up, Eqs. (\\ref{lineint}) and (\\ref{surfint}) provide two formulas to calculate the charge pumping either as a line or a surface intergral in the parametric space."
   ]
  },
  {
   "cell_type": "markdown",
   "metadata": {},
   "source": [
    "<a name=\"1.2\"></a>\n",
    "## Spin pumping in magnetic junctions\n",
    "\n",
    "The [Buttiker-Pretre-Thomas](https://link.springer.com/article/10.1007/BF01307664) formalism is also employed in magnetic-normal junctions to describe spin pumping (see [Tserkovnyak et al.](https://journals.aps.org/prl/abstract/10.1103/PhysRevLett.88.117601)) Let's start by introducing the colinear magnetization spin basis, $u_{\\uparrow (\\downarrow)} = (1 \\pm \\mathbf{n}\\cdot\\boldsymbol{\\sigma})/2$, where $\\mathbf{n}$ is a unit vector along the direction of the magnetization. Let's consider that the scattering matrix can be given in terms of this spin basis,    \n",
    "\n",
    "$$S = \\hat{s}_{\\uparrow}u_{\\uparrow} + \\hat{s}_{\\downarrow}u_{\\downarrow}\n",
    " = \\hat{s}_+ + \\hat{s}_-\\, \\mathbf{n}\\cdot\\boldsymbol{\\sigma},$$\n",
    "\n",
    "where $\\hat{s}_{\\uparrow(\\downarrow)}$ are submatrices describing the scattering processes from all the relevant modes but with the spin collinear to the magnetization direction, and $\\hat{s}_{\\pm} = (\\hat{s}_{\\uparrow} \\pm \\hat{s}_{\\downarrow})/2$. Similarly as in Eq. (2) let's now introduce an infinitesimal change of spin due to pumping,\n",
    "\n",
    "\\begin{equation}\n",
    "\\delta \\vec{S}(t) = \\frac{\\hbar}{4\\pi} \\mathrm{Im}\\Bigl\\{\\mathrm{Tr}\\bigl[\n",
    "\\frac{\\partial S}{\\partial X}\\vec{\\sigma}S^{\\dagger} \\bigr]\\Bigr\\}\\delta X(t).\n",
    "\\label{diffspin}\\tag{6}\n",
    "\\end{equation}\n",
    "\n",
    "In what follows, by comparing Eq. (\\ref{diffspin}) with the Landau-Lifshitz-Gilbert (LLG) equation we will show that this equation indeed yields a spin density. The LLG reads\n",
    "\n",
    "$$\\frac{d \\mathbf{m}}{dt} - \\alpha\\mathbf{m}\\times\\frac{d\\mathbf{m}}{dt} = -\\gamma\\mathbf{m}\\times\\mathbf{H}_{eff},$$\n",
    "\n",
    "where $\\alpha$ is the Gilbert dampling constant, $\\gamma$ is the giromagnetic ratio, and $\\mathbf{H}_{eff}$ is the effective field, a combination of external and demagnetization fields. Let's substitute in Eq. (\\ref{diffspin}) the scattering matrix and its derivative,\n",
    "\n",
    "\\begin{eqnarray}\n",
    "\\delta \\vec{S}(t) &=& \\frac{\\hbar}{4\\pi} \\mathrm{Im}\\Bigl\\{\\mathrm{Tr}\\bigl[\n",
    "\\frac{\\partial S}{\\partial X}\\vec{\\sigma}S^{\\dagger} \\bigr]\\Bigr\\}\\delta X(t), \\nonumber\\\\\n",
    "&=& \\frac{\\hbar}{4\\pi} \\mathrm{Im}\\Bigl\\{\\mathrm{Tr}\\bigl[\n",
    "\\vec{\\sigma}S^{\\dagger} \\frac{\\partial S}{\\partial X}\\bigr]\\Bigr\\}\\delta X(t), \\nonumber\\\\\n",
    "&=& \\frac{\\hbar}{4\\pi} \\mathrm{Im}\\Bigl\\{\\mathrm{Tr}\\bigl[\\vec{\\sigma}\n",
    "\\bigl(\\hat{s}_+^{\\dagger} + \\hat{s}_-^{\\dagger}\\, \\mathbf{n}\\cdot\\boldsymbol{\\sigma}\\bigr)\n",
    "\\hat{s}_- \\partial_X \\mathbf{n}\\cdot\\boldsymbol{\\sigma}\\bigr]\\Bigr\\}\\delta X(t). \\nonumber\n",
    "\\end{eqnarray}\n",
    "\n",
    "Using the known result, $(\\mathbf{a}\\cdot\\boldsymbol{\\sigma})(\\mathbf{b}\\cdot\\boldsymbol{\\sigma})=\\mathbf{a}\\cdot\\mathbf{b}+ i(\\mathbf{a}\\times\\mathbf{b})\\cdot\\boldsymbol{\\sigma}$, straightforward calculations yield \n",
    "\n",
    "\\begin{eqnarray}\n",
    "\\delta \\vec{S}(t) &=&\\frac{\\hbar}{4\\pi} \\mathrm{Im}\\Bigl\\{\\mathrm{Tr}\\bigl[\\vec{\\sigma}\\,\\bigl(\n",
    "\\hat{s}_+^{\\dagger} \\hat{s}_-\\partial_X\\mathbf{n}\n",
    "+i\\hat{s}_-^{\\dagger} \\hat{s}_-(\\mathbf{n}\\times\\partial_X\\mathbf{n})\\bigr)\\cdot\\boldsymbol{\\sigma}\\bigr]\\Bigr\\}, \\nonumber\\\\\n",
    " &=&\\frac{\\hbar}{4\\pi} \\mathrm{Im}\\Bigl\\{\\mathrm{Tr}\\bigl[\n",
    "\\hat{s}_+^{\\dagger} \\hat{s}_-\\partial_X\\mathbf{n}\n",
    "+i\\hat{s}_-^{\\dagger} \\hat{s}_-(\\mathbf{n}\\times\\partial_X\\mathbf{n})\\bigr]\\Bigr\\}. \\nonumber\n",
    "\\end{eqnarray}\n",
    "\n",
    "Finally, integration over time allows to indentify that terms in the pumping formulas have the same form as in the LLG equation,\n",
    "\n",
    "\\begin{eqnarray}\n",
    "\\label{spumpint}\\tag{7}\n",
    "\\vec{S} &=& \\frac{\\hbar}{4\\pi} \\int \\mathrm{Im}\\Bigl\\{\\mathrm{Tr}\\bigl[\n",
    "\\frac{\\partial S}{\\partial X}\\vec{\\sigma}S^{\\dagger} \\bigr]\\Bigr\\} dX,\\\\\n",
    "&=& \\frac{\\hbar}{4\\pi} \\int\\! dt\\,\\mathrm{Im}\\Bigl\\{\\mathrm{Tr}\\bigl[\n",
    "\\hat{s}_+^{\\dagger} \\hat{s}_-\\partial_X\\mathbf{n}\n",
    "+i\\hat{s}_-^{\\dagger} \\hat{s}_-(\\mathbf{n}\\times\\partial_X\\mathbf{n})\\bigr]\\Bigr\\}\\frac{dX}{dt}, \\nonumber\\\\\n",
    "&=& \\frac{\\hbar}{4\\pi} \\int\\! dt\\,\\mathrm{Im}\\Bigl\\{\\mathrm{Tr}\\bigl[\n",
    "\\hat{s}_+^{\\dagger} \\hat{s}_-\\frac{d\\mathbf{n}}{dt}\n",
    "+i\\hat{s}_-^{\\dagger} \\hat{s}_-\\bigl(\\mathbf{n}\\times\\frac{d\\mathbf{n}}{dt}\\bigr)\\bigr]\\Bigr\\}. \\nonumber\n",
    "\\end{eqnarray}\n",
    "\n",
    "Following [Tserkovnyak et al.](https://journals.aps.org/prl/abstract/10.1103/PhysRevLett.88.117601) one can noticed from Eq. (\\ref{spumpint}) that there is not spin pumping when: 1) $\\frac{d\\mathbf{n}}{dt} = 0$, and 2) the contacts are unpolarized, i.e. $\\hat{s}_{\\uparrow} = \\hat{s}_{\\downarrow}$. \n",
    "\n",
    "The integrals for charge and spin pumping (Eqs. 4,5 and \\ref{spumpint}) depend on the derivatives of the instantaneous scattering matrix. Let's build a NS' junction with [kwant](https://kwant-project.org/) to analyze the dependence of the scattering matrix with the parameters $X_1 = M_x$ and $X_2=M_y$. "
   ]
  },
  {
   "cell_type": "code",
   "execution_count": 1,
   "metadata": {},
   "outputs": [
    {
     "name": "stderr",
     "output_type": "stream",
     "text": [
      "C:\\Users\\victo\\anaconda3\\lib\\site-packages\\kwant\\solvers\\default.py:18: RuntimeWarning: MUMPS is not available, SciPy built-in solver will be used as a fallback. Performance can be very poor in this case.\n",
      "  \"Performance can be very poor in this case.\", RuntimeWarning)\n"
     ]
    }
   ],
   "source": [
    "import numpy as np\n",
    "import matplotlib.pyplot as plt\n",
    "import kwant\n",
    "import kwant.continuum\n",
    "import supp_func_kwant as sfk\n",
    "\n",
    "from ipywidgets import interactive"
   ]
  },
  {
   "cell_type": "markdown",
   "metadata": {},
   "source": [
    "<a name=\"2\"></a>\n",
    "## NS' junction\n",
    "\n",
    "The junction that we consider first is a NS' junction defined by the following quantities,\n",
    "\n",
    "$$V(x)=\\left\\{\n",
    "\\begin{array}{cl}\n",
    "V_0 & -L_b \\leq x < 0,\\\\\n",
    "0 & \\mathrm{elsewhere},\n",
    "\\end{array}\\right.$$ \n",
    "\n",
    "$$\\mu(x)=\\left\\{\n",
    "\\begin{array}{cl}\n",
    "\\mu_{sc} & x \\geq 0, \\\\\n",
    "\\mu_N & x < 0, \n",
    "\\end{array}\\right.$$\n",
    "\n",
    "$$\\mathbf{m}(x,t)=\\left\\{\n",
    "\\begin{array}{cl}\n",
    "m_0\\bigl(\\,\\sin{\\theta}\\cos{(\\omega t)},\\sin{\\theta}\\sin{(\\omega t)},\\cos{\\theta}\\,\\bigr) & x \\geq 0, \\\\\n",
    "0 & x <0,\n",
    "\\end{array}\\right.$$\n",
    "and\n",
    "$$\\Delta(x)=\\left\\{\n",
    "\\begin{array}{cl}\n",
    "\\Delta_0 & \\geq 0, \\\\\n",
    "0 & x < 0.\n",
    "\\end{array}\\right.$$\n",
    "\n",
    "\n",
    "<a name=\"2.1\"></a>\n",
    "## Building the model with kwant\n",
    "\n",
    "To build the NS' junction we use the [continuum](https://kwant-project.org/doc/1/reference/kwant.continuum) module of kwant. The module builds tight binding hamiltonians from hamiltonians in the continuous notation, i.e. in terms of the continuous operators $\\mathbf{p}$ and $\\mathbf{r}$. The scattering region of the junction lies at the NS' interface where normal and ferromagnetic-superconducting contacts are attached. The normal contact is defined by the string hamiltonian `h_rashba`, while the superconducting-ferromagnetic contact is defined by the concatenation of the string hamiltonians `h_rashba`, `h_super` and `h_mexch` (see the cell below). The scattering region is defined by the string hamiltonians `h_rashba`, `h_super`, `h_mexch`, and `h_barrier`, after the homogeneous parameters `mu_N` and `Delta0` are upgraded to functions `mu(x, mu_N, mu_sc)` and `Delta(x, Delta0)`, respectively. "
   ]
  },
  {
   "cell_type": "code",
   "execution_count": 2,
   "metadata": {},
   "outputs": [],
   "source": [
    "h_rashba = \"\"\"(k_x**2 - mu_N)* kron(sigma_z, sigma_0)\n",
    "            -2 * k_x * kron(sigma_z, sigma_z)\"\"\"\n",
    "\n",
    "h_super = \"\"\"Delta0 * kron(sigma_x, sigma_0)\"\"\"\n",
    "\n",
    "h_mexch =  \"\"\" m_x(x,m0,theta,phi) * kron(sigma_0, sigma_x)\n",
    "            + m_y(x,m0,theta,phi) * kron(sigma_0, sigma_y)\n",
    "            + m_z(x,m0,theta,phi) * kron(sigma_0, sigma_z)\"\"\"\n",
    "\n",
    "h_barrier = \"\"\"V(x,L_b,V_0) * kron(sigma_z, sigma_0)\"\"\"\n",
    "\n",
    "mu_update = 'mu(x, mu_N, mu_sc)'\n",
    "delta_update = 'Delta(x, Delta0)'\n",
    "\n",
    "hamlist = [h_rashba, h_super, h_mexch, h_barrier]\n",
    "updates = ['mu_N',mu_update, 'Delta0',delta_update]"
   ]
  },
  {
   "cell_type": "markdown",
   "metadata": {},
   "source": [
    "As already mentioned in previous notebooks, the parameters entering in the string hamiltonians are provided to the program as a python dictionary.   "
   ]
  },
  {
   "cell_type": "code",
   "execution_count": 3,
   "metadata": {},
   "outputs": [],
   "source": [
    "alat=0.25\n",
    "Lleft=-3;  Lright=6\n",
    "default = dict(Delta0=2.0, V_0=2, mu_N=2.0, mu_sc=4.0, m0=3.0, theta=0.3, phi=0.7, \n",
    "               V=sfk.V_rect, mu=sfk.mu_f, Delta=sfk.delta_f, m_x=sfk.mx_f, m_y=sfk.my_f, m_z=sfk.mz_f,\n",
    "               L1=Lleft, L2=Lright, L_b=2)\n",
    "lat_info = [alat,Lleft,Lright]"
   ]
  },
  {
   "cell_type": "markdown",
   "metadata": {},
   "source": [
    "The function that does all the hard work building the junction and its tight binding hamiltonian is `K_junct`. The function builds either NS' or NS'S junctions from a list of terms, `hamlist`, setting the hamiltonian.  "
   ]
  },
  {
   "cell_type": "code",
   "execution_count": 4,
   "metadata": {},
   "outputs": [
    {
     "data": {
      "image/png": "[encoded data removed]",
      "text/plain": [
       "<Figure size 432x288 with 1 Axes>"
      ]
     },
     "metadata": {
      "needs_background": "light"
     },
     "output_type": "display_data"
    },
    {
     "name": "stdout",
     "output_type": "stream",
     "text": [
      "Plotting the nodes and vertices of the lattice\n"
     ]
    }
   ],
   "source": [
    "latsyst = sfk.K_junct(lat_info, hamlist, updates, 'NS', sym_cons= np.diag([-2,-1,1,2]))\n",
    "kwant.plot(latsyst)\n",
    "print('Plotting the nodes and vertices of the lattice')"
   ]
  },
  {
   "cell_type": "markdown",
   "metadata": {},
   "source": [
    "<a name=\"2.2\"></a>\n",
    "## Particle-hole symmetry\n",
    "\n",
    "One of the important features of hamiltonian (1) is its transformation under particle-hole symmetry. The symmetry is defined by the operator  $\\Xi=\\tau_y\\sigma_y K,$ where $K$ means complex conjugation,\n",
    "\n",
    "\\begin{eqnarray}\n",
    "\\tau_y\\sigma_y\\mathcal{H}(t)\\sigma_y\\tau_y &=& \n",
    "\\tau_y\\sigma_y\\bigl[-\\partial_x^2 + 2i\\partial_x\\sigma_z + V(x) -\\mu(x) \\bigr]\\tau_z\\sigma_y\\tau_y \n",
    "+\\sigma_y\\mathbf{m}(x,t)\\cdot\\boldsymbol{\\sigma}\\sigma_y + \\tau_y\\Delta(x)\\tau_x\\tau_y, \\nonumber\\\\\n",
    "&=& -\\bigl[-\\partial_x^2 + V(x) -\\mu(x)\\bigr]\\tau_z + 2i\\partial_x\\sigma_z\\tau_z \n",
    "-m_x(x,t)\\sigma_x + m_y(x,t)\\sigma_y -m_z(x,t)\\sigma_z -\\Delta(x)\\tau_x, \\nonumber\\\\\n",
    "&=& -\\mathcal{H}^*(t).\\nonumber\n",
    "\\end{eqnarray}\n",
    "\n",
    "In the adiabatic limit one assumes that one can define an eigenvalue problem for the instantaneous hamiltonian, and that the energies can be computed from this eigenvalue problem, $\\mathcal{H}(X_1,X_2)\\Psi(X_1,X_2) = E(X_1,X_2)\\Psi(X_1,X_2)$. Therefore, the particle-hole symmetry acts in the adiabatic limit simillarly as in the static case where $\\Xi\\,\\Psi$ is also an eigenstate of the hamiltonian but with eigenenergy $-E$. The scattering matrix also obeys this symmetry and one can use it to obtain \n",
    "the sub-blocks  $\\hat{r}_{hh}$ and $\\hat{r}_{eh}$ from $\\hat{r}_{ee}$ and $\\hat{r}_{he}$, respectively, \n",
    "\n",
    "\\begin{eqnarray}\n",
    "\\left(\n",
    "\\begin{array}{cc}\n",
    " & -i\\sigma_y \\\\\n",
    "i\\sigma_y & \n",
    "\\end{array}\n",
    "\\right)\\left(\n",
    "\\begin{array}{cc}\n",
    "\\hat{r}^*_{ee}(E) & \\hat{r}^*_{eh}(E) \\\\\n",
    "\\hat{r}^*_{he}(E) & \\hat{r}^*_{hh}(E)\n",
    "\\end{array}\n",
    "\\right)\\left(\n",
    "\\begin{array}{cc}\n",
    " & -i\\sigma_y \\\\\n",
    "i\\sigma_y & \n",
    "\\end{array}\n",
    "\\right) &=&\n",
    "\\left(\n",
    "\\begin{array}{cc}\n",
    "\\hat{r}_{ee}(-E) & \\hat{r}_{eh}(-E) \\\\\n",
    "\\hat{r}_{he}(-E) & \\hat{r}_{hh}(-E)\n",
    "\\end{array}\n",
    "\\right) \\nonumber\\\\ \n",
    "\\left(\n",
    "\\begin{array}{cc}\n",
    "\\sigma_y\\hat{r}^*_{hh}(E)\\sigma_y & -\\sigma_y\\hat{r}^*_{he}(E)\\sigma_y \\\\\n",
    "-\\sigma_y\\hat{r}^*_{eh}(E)\\sigma_y & \\sigma_y\\hat{r}^*_{ee}(E)\\sigma_y\n",
    "\\end{array}\n",
    "\\right) &=&\n",
    "\\label{PHsymm_Scat}\\tag{8}\n",
    "\\end{eqnarray}\n",
    "\n",
    "Let's numerically check the particle-hole symmetry in the the scattering matrix."
   ]
  },
  {
   "cell_type": "code",
   "execution_count": 5,
   "metadata": {},
   "outputs": [],
   "source": [
    "sigma_y = np.array([[0,-1j],[1j,0]])\n",
    "\n",
    "En = 7e-2\n",
    "#Scattering matrix at E\n",
    "Smtx_Epl = kwant.smatrix(latsyst, energy=En, params=default).data\n",
    "#Scattering matrix at -E\n",
    "Smtx_Emn = kwant.smatrix(latsyst, energy=-En, params=default).data\n",
    "\n",
    "# h-h subblock at E\n",
    "rhh_Epl = Smtx_Epl[2::,2::]\n",
    "# h-e (h->e) subblock at E\n",
    "reh_Epl = Smtx_Epl[:2:,2::]\n",
    "# e-e subblock at -E\n",
    "ree_Emn = Smtx_Emn[:2:,:2:]\n",
    "# e-h (e->h) subblock at -E\n",
    "rhe_Emn = Smtx_Emn[2::,:2:]"
   ]
  },
  {
   "cell_type": "markdown",
   "metadata": {},
   "source": [
    "The cell below checks the equation, \n",
    "$$\\sigma_y\\hat{r}^*_{hh}(E)\\sigma_y - \\hat{r}_{ee}(-E) = 0$$"
   ]
  },
  {
   "cell_type": "code",
   "execution_count": 6,
   "metadata": {},
   "outputs": [
    {
     "data": {
      "text/plain": [
       "array([[0.-0.j, 0.+0.j],\n",
       "       [0.-0.j, 0.+0.j]])"
      ]
     },
     "execution_count": 6,
     "metadata": {},
     "output_type": "execute_result"
    }
   ],
   "source": [
    "prod_one = np.matmul(sigma_y, np.matmul(np.conj(rhh_Epl),sigma_y))\n",
    "np.round(ree_Emn-prod_one, 5)"
   ]
  },
  {
   "cell_type": "markdown",
   "metadata": {},
   "source": [
    "The cell below checks the equation, \n",
    "$$\\sigma_y\\hat{r}^*_{eh}(E)\\sigma_y + \\hat{r}_{he}(-E) = 0$$"
   ]
  },
  {
   "cell_type": "code",
   "execution_count": 7,
   "metadata": {},
   "outputs": [
    {
     "data": {
      "text/plain": [
       "array([[-0.-0.j,  0.-0.j],\n",
       "       [ 0.-0.j, -0.+0.j]])"
      ]
     },
     "execution_count": 7,
     "metadata": {},
     "output_type": "execute_result"
    }
   ],
   "source": [
    "prod_two = np.matmul(sigma_y, np.matmul(np.conj(reh_Epl),sigma_y))\n",
    "np.round(rhe_Emn+prod_two, 5)"
   ]
  },
  {
   "cell_type": "markdown",
   "metadata": {},
   "source": [
    "Let's see how the particle-hole symmetry allows us to obtain a slightly different expression for the pumped charge. Let's start from Eq. (3) and let's use the transformations given by Eq. (8),\n",
    "\n",
    "\\begin{eqnarray}\n",
    "\\delta \\mathcal{Q}(t) &=& \\frac{e}{2\\pi} \\mathrm{Im} \\Bigl \\{\\mathrm{Tr}\\Bigl[\n",
    "\\frac{\\partial \\hat{r}_{ee}(E)}{\\partial \\vec{X}}\\hat{r}_{ee}^{\\dagger}(E) \n",
    "-\\frac{\\partial \\hat{r}_{he}(E)}{\\partial \\vec{X}}\\hat{r}_{he}^{\\dagger}(E) \\Bigr]\\Bigr\\} \\delta\\vec{X}(t),\n",
    "\\nonumber\\\\\n",
    "&=& \\frac{e}{2\\pi} \\mathrm{Im} \\Bigl \\{\\mathrm{Tr}\\Bigl[\n",
    "\\sigma_y\\frac{\\partial \\hat{r}^*_{hh}(-E)}{\\partial \\vec{X}}\\hat{r}_{hh}^T(-E)\\sigma_y \n",
    "-\\sigma_y\\frac{\\partial \\hat{r}^*_{eh}(-E)}{\\partial \\vec{X}}\\hat{r}_{eh}^T(-E)\\sigma_y \\Bigr]\\Bigr\\} \\delta\\vec{X}(t), \\nonumber\\\\\n",
    "&=& \\frac{e}{2\\pi} \\mathrm{Im} \\Bigl \\{\\mathrm{Tr}\\Bigl[\n",
    "\\frac{\\partial \\hat{r}^*_{hh}(-E)}{\\partial \\vec{X}}\\hat{r}_{hh}^T(-E) \n",
    "-\\frac{\\partial \\hat{r}^*_{eh}(-E)}{\\partial \\vec{X}}\\hat{r}_{eh}^T(-E) \\Bigr]\\Bigr\\} \\delta\\vec{X}(t), \\nonumber\\\\\n",
    "&=& -\\frac{e}{2\\pi} \\mathrm{Im} \\Bigl \\{\\mathrm{Tr}\\Bigl[\n",
    "\\frac{\\partial \\hat{r}_{hh}(-E)}{\\partial \\vec{X}}\\hat{r}_{hh}^{\\dagger}(-E) \n",
    "-\\frac{\\partial \\hat{r}_{eh}(-E)}{\\partial \\vec{X}}\\hat{r}_{eh}^{\\dagger}(-E) \\Bigr]\\Bigr\\} \\delta\\vec{X}(t).\n",
    "\\label{dq_PHsymm}\\tag{9}\n",
    "\\end{eqnarray}\n",
    "\n",
    "To arrive to the final result above we use the known results, $\\mathrm{Tr}[\\mathbf{A B}]=\\mathrm{Tr}[\\mathbf{BA}]$ and $\\mathrm{Im}\\{z^*\\}=-\\mathrm{Im}\\{z\\}$. From Eq. (\\ref{dq_PHsymm}) and at zero energy one can straightforwardly obtain that the differential charge pumped out the junction reads,\n",
    "\n",
    "$$\\delta \\mathcal{Q}(t) = \\frac{e}{4\\pi} \\mathrm{Im} \\Bigl \\{\\mathrm{Tr}\\Bigl[\n",
    "\\frac{\\partial S(0)}{\\partial \\vec{X}}\\tau_z S^{\\dagger}(0) \\Bigr] \\Bigr \\},$$\n",
    "\n",
    "where $S$ is the scattering matrix. At finite temperature the pumped charge is obtained from the convolution of Eqs. (3) or (5) with the derivative of the fermi distribution function,\n",
    "\n",
    "$$Q = -\\int_{\\infty}^{\\infty} \\!dE \\Bigl(\\frac{\\partial f}{\\partial E} \\Bigr) \\mathcal{Q}(E).$$\n",
    "\n",
    "Given that: 1) the energy integral above covers positive as well as negative values, and 2) $\\frac{\\partial f}{\\partial E}$ is an even function of energy, we can obtain an expression for the pumped charge in terms of the scattering matrix,   \n",
    "\n",
    "$$Q = -\\frac{e}{4\\pi}\\int_{-\\infty}^{\\infty} \\!dE \\Bigl(\\frac{\\partial f}{\\partial E} \\Bigr) \n",
    "\\oint \\mathrm{Im} \\Bigl \\{\\mathrm{Tr}\\Bigl[\n",
    "\\frac{\\partial S(E)}{\\partial \\vec{X}}\\tau_z S^{\\dagger}(E) \\Bigr] \\Bigr \\} d\\vec{X}.$$"
   ]
  },
  {
   "cell_type": "markdown",
   "metadata": {},
   "source": [
    "<a name=\"2.3\"></a>\n",
    "## Parametric evolution of the scattering matrix\n",
    "\n",
    "The formulas for charge and spin pumping (Eqs. 4,5 and 7) depend on the derivatives of the instantaneous scattering matrix. To avoid the calculation of numerical derivatives and hence decrease the propagation of rounding errors, in this section we plot the dynamical dependence of the normal and Andreev blocks to gain some insight.   "
   ]
  },
  {
   "cell_type": "code",
   "execution_count": 8,
   "metadata": {},
   "outputs": [],
   "source": [
    "def ref_winding(En,chem,m_zero,polar):\n",
    "    \n",
    "    default['m0'] = m_zero\n",
    "    default['mu_sc'] = chem\n",
    "    default['theta'] = polar\n",
    "    \n",
    "    pharr = np.linspace(0,2,17)\n",
    "    eiph = np.exp(1j*pharr*np.pi)\n",
    "    \n",
    "    Sset = [] \n",
    "    for ph in pharr:\n",
    "        default['phi'] = ph\n",
    "        Smtx = kwant.smatrix(latsyst, energy=En, params=default).data\n",
    "        Sset.append(Smtx)\n",
    "     \n",
    "    Sset = np.array(Sset)\n",
    "    \n",
    "    fig = plt.figure(figsize=(10,9))\n",
    "    \n",
    "    ax = fig.add_subplot(3, 4, (1,2))\n",
    "    sfk.ph_diagram(ax, default['Delta0'], default['theta'], 8)\n",
    "    ax.scatter(m_zero, chem, s=50, color='red')\n",
    "    ax.set_xlabel(r'$m_0/E_{SO}$', fontsize=12, labelpad=-1.5)\n",
    "    ax.set_ylabel(r'$\\frac{\\mu_{sc}}{E_{so}}$', fontsize=17, rotation='horizontal',labelpad=6)\n",
    "    ax.set_title('(a)')\n",
    "  \n",
    "    ay = fig.add_subplot(3, 4, (3,4))\n",
    "    kxarr = np.linspace(-1.09,1.09,123)\n",
    "    kwant.plotter.bands(latsyst.leads[1], params=default, momenta=kxarr, ax=ay)\n",
    "    ay.set_ylim(-3,3)\n",
    "    ay.plot(np.linspace(kxarr[0],kxarr[-1],7),En*np.ones(7), '--k')\n",
    "    ay.set_xlabel(r'$k_x a$', fontsize=12, labelpad=-1.5)\n",
    "    ay.set_ylabel(r'$\\frac{E}{E_{so}}$', fontsize=17, rotation='horizontal',labelpad=6)\n",
    "    ay.set_title('(b)')\n",
    "  \n",
    "    \n",
    "    #sp_ind = [r'$e,\\!\\!\\!\\uparrow$',r'$e,\\!\\!\\!\\downarrow$',r'$h,\\!\\!\\!\\downarrow$',r'$h,\\!\\!\\!\\uparrow$']\n",
    "    sp_ind_one = [r'$r_{ee}^{\\uparrow\\!\\!\\uparrow}$',r'$r_{ee}^{\\downarrow\\!\\!\\uparrow}$',\n",
    "                  r'$r_{he}^{\\downarrow\\!\\!\\uparrow}$',r'$r_{he}^{\\uparrow\\!\\!\\uparrow}$']\n",
    "    sp_ind_two = [r'$r_{ee}^{\\uparrow\\!\\!\\downarrow}$',r'$r_{ee}^{\\downarrow\\!\\!\\downarrow}$',\n",
    "                  r'$r_{he}^{\\downarrow\\!\\!\\downarrow}$',r'$r_{he}^{\\uparrow\\!\\!\\downarrow}$']\n",
    "    subttl = ['(c)  ','(d)  ', '(e)  ', '(f)  ', '(g)  ', '(h)  ', '(i)  ', '(j)  ']\n",
    "    ll = 5\n",
    "    for ii in range(2):\n",
    "        for jj in range(4):\n",
    "            aa = fig.add_subplot(3,4,ll)\n",
    "            aa.plot(pharr,np.log(Sset[::,jj,ii]).imag, '-b')\n",
    "            aa.set_ylim(-np.pi,np.pi)\n",
    "            aa.set_yticks(np.linspace(-np.pi,np.pi,5))\n",
    "            if ii == 0:\n",
    "                aa.set_xticklabels([])\n",
    "                ttl_str = subttl[ll-5]+'Im ['+r'$ln(\\,$'+sp_ind_one[jj]+')]'\n",
    "                aa.set_title(ttl_str)\n",
    "                if jj % 2 != 0:\n",
    "                    aa.plot(pharr,np.log(Sset[0,jj,ii]*eiph).imag, 'og')\n",
    "            elif ii > 0:\n",
    "                aa.set_xlabel(r'$\\phi / \\pi$', fontsize=12, labelpad=-1)\n",
    "                ttl_str = subttl[ll-5]+'Im ['+r'$ln(\\,$'+sp_ind_two[jj]+r'$)]$'\n",
    "                aa.set_title(ttl_str)\n",
    "                if jj % 2 == 0:\n",
    "                    aa.plot(pharr,np.log(Sset[0,jj,ii]*np.conj(eiph)).imag, 'sg')\n",
    "            if jj == 0:\n",
    "                aa.set_yticklabels([r'$-\\pi$','','0','',r'$\\pi$'])\n",
    "            elif jj > 0:\n",
    "                aa.set_yticklabels([])\n",
    "            ll += 1\n",
    "            \n",
    "    fig.subplots_adjust(hspace=0.35, wspace=0.35)"
   ]
  },
  {
   "cell_type": "code",
   "execution_count": 9,
   "metadata": {},
   "outputs": [
    {
     "data": {
      "image/png": "[encoded data removed]",
      "text/plain": [
       "<Figure size 720x648 with 10 Axes>"
      ]
     },
     "metadata": {
      "needs_background": "light"
     },
     "output_type": "display_data"
    }
   ],
   "source": [
    "ref_winding(En=0.1,chem=1.0,m_zero=3.0,polar=0.3)"
   ]
  },
  {
   "cell_type": "code",
   "execution_count": 10,
   "metadata": {},
   "outputs": [
    {
     "data": {
      "application/vnd.jupyter.widget-view+json": {
       "model_id": "103d427ba2714daeb8ec3f478971e311",
       "version_major": 2,
       "version_minor": 0
      },
      "text/plain": [
       "interactive(children=(FloatSlider(value=0.0, description='En', max=0.4, min=-0.4), FloatSlider(value=0.0, desc…"
      ]
     },
     "metadata": {},
     "output_type": "display_data"
    }
   ],
   "source": [
    "w = interactive(ref_winding, En=(-0.4,0.4), chem=(-5.0,5.0), m_zero=(0.0,5.0), polar=(0.1,0.5))\n",
    "display(w)"
   ]
  },
  {
   "cell_type": "markdown",
   "metadata": {},
   "source": [
    "(a) Phase diagram of the ferromagnetic-superconducting nanowire. The buttons `chem`, `m_zero`, and `polar` allow the manipulation of parameters $\\mu_{sc}$, $m_0$, and $\\theta/\\pi,$ respectively. The lines separating the different phases are called transition lines, $\\mu^2 +\\Delta_0^2 = m_0^2$ and $\\Delta_0=m_0\\cos{\\theta}$. (b) Energy spectrum of the ferromagnetic-superconducting nanowire. (c-j) Angular phase of the $e-e$ (electron-electron) and $h-e$ (electron-hole) reflection coefficients. The angular phases of: 1) the normal reflections inverting spin and 2) the Andreev reflections conserving spin, fit well to $\\mathrm{Im}\\,[\\ln{(e^{i\\alpha_{mn}}e^{i\\phi})}]$ and $\\mathrm{Im}\\,[\\ln{(e^{i\\alpha_{mn}}e^{-i\\phi})}]$, respectively. The agreement thus shows that the phase of these reflection coefficients winds. In the fitting expressions $\\alpha_{mn}= \\mathrm{Im}\\ln{[S_{mn}(\\phi=0)]}$.\n",
    "\n",
    "From the figure above we obtain that the dynamical dependence of the normal and Andreev reflection blocks reads,\n",
    "\n",
    "$$\\begin{array}{ccc}\n",
    "\\hat{r}_{ee}(E,\\phi) =\n",
    "\\left(\\begin{array}{cc}\n",
    " r_{ee}^{\\uparrow\\uparrow} & r_{ee}^{\\uparrow\\downarrow}e^{-i\\phi} \\\\\n",
    " r_{ee}^{\\downarrow\\uparrow}e^{i\\phi} & r_{ee}^{\\downarrow\\downarrow}\n",
    "\\end{array}\\right), \n",
    "& \\mathrm{and} &\n",
    "\\hat{r}_{he} (E,\\phi) =\n",
    "\\left(\\begin{array}{cc}\n",
    " r_{he}^{\\downarrow\\uparrow} & r_{he}^{\\downarrow\\downarrow}e^{-i\\phi} \\\\\n",
    " r_{he}^{\\uparrow\\uparrow}e^{i\\phi} & r_{he}^{\\uparrow\\downarrow}\n",
    "\\end{array}\\right).\n",
    "\\end{array}$$\n",
    "\n",
    "An analytical demonstration of the dynamical dependencies shown above can be found in [Becerra et al.](https://journals.aps.org/prl/abstract/10.1103/PhysRevLett.130.237002)  The parameter derivative of the normal and Andreev blocks yields\n",
    "\n",
    "$$\\begin{array}{ccc}\n",
    "\\partial_{\\phi} \\hat{r}_{ee}(E,\\phi) =\n",
    "\\left(\\begin{array}{cc}\n",
    "  & -ir_{ee}^{\\uparrow\\downarrow}e^{-i\\phi} \\\\\n",
    " ir_{ee}^{\\downarrow\\uparrow}e^{i\\phi} & \n",
    "\\end{array}\\right), \n",
    "& \\mathrm{and} &\n",
    "\\partial_{\\phi}\\hat{r}_{he} (E,\\phi) =\n",
    "\\left(\\begin{array}{cc}\n",
    "  & -ir_{he}^{\\downarrow\\downarrow}e^{-i\\phi} \\\\\n",
    " ir_{he}^{\\uparrow\\uparrow}e^{i\\phi} & \n",
    "\\end{array}\\right).\n",
    "\\end{array}$$\n",
    "\n",
    "Substitution of last results back to Eq. (4) yields\n",
    "\n",
    "\\begin{eqnarray}\n",
    "Q &=& \\frac{e}{2\\pi} \\int_0^{2\\pi} \\bigl(\n",
    "-|r_{ee}^{\\uparrow\\downarrow}|^2 + |r_{ee}^{\\downarrow\\uparrow}|^2 \n",
    "+|r_{he}^{\\downarrow\\downarrow}|^2 - |r_{he}^{\\uparrow\\uparrow}|^2  \\bigr) d\\phi, \\nonumber\\\\\n",
    "&=& e \\bigl(\n",
    "-|r_{ee}^{\\uparrow\\downarrow}|^2 + |r_{ee}^{\\downarrow\\uparrow}|^2 \n",
    "+|r_{he}^{\\downarrow\\downarrow}|^2 - |r_{he}^{\\uparrow\\uparrow}|^2  \\bigr). \\nonumber\n",
    "\\end{eqnarray}\n",
    "\n",
    "Notice that the integrand above is $\\phi$-independent, therefore we can skip the numerical integration. "
   ]
  },
  {
   "cell_type": "code",
   "execution_count": 11,
   "metadata": {},
   "outputs": [],
   "source": [
    "def charge_pump(En,chem,m_zero,polar):\n",
    "\n",
    "    default['m0'] = m_zero\n",
    "    default['mu_sc'] = chem\n",
    "    default['theta'] = polar\n",
    "    \n",
    "    Smtx = kwant.smatrix(latsyst, energy=En, params=default).data\n",
    "        \n",
    "    ree = Smtx[0:2:,0:2:]\n",
    "    rhe = Smtx[2:4:,0:2:]\n",
    "    dree_dphi = np.array([[0,-1j*ree[0,1]],[1j*ree[1,0],0]])\n",
    "    drhe_dphi = np.array([[0,-1j*rhe[0,1]],[1j*rhe[1,0],0]])    \n",
    "   \n",
    "    dS_dphi = np.array([[0,-1j*Smtx[0,1],0,-1j*Smtx[0,3]],\n",
    "                        [1j*Smtx[1,0],0,1j*Smtx[1,2],0],\n",
    "                        [0,-1j*Smtx[2,1],0,-1j*Smtx[2,3]],\n",
    "                        [1j*Smtx[3,0],0,1j*Smtx[3,2],0]])\n",
    "                \n",
    "    mtx_prod = dree_dphi @ (np.conj(ree.T)) - drhe_dphi @ (np.conj(rhe.T))\n",
    "    d_qq = np.trace(mtx_prod)\n",
    "    sz_op = np.diag([1,-1,1,-1]) \n",
    "    prod_mtx = dS_dphi @ sz_op @ (np.conj(Smtx[:4:,:4:].T))\n",
    "    diagonal = prod_mtx[1,1] + prod_mtx[3,3]\n",
    "    d_sz = np.trace(prod_mtx)\n",
    "    \n",
    "    # alternative formula\n",
    "    d_qq_alt = -np.abs(ree[0,1])**2 + np.abs(ree[1,0])**2\n",
    "    + np.abs(rhe[0,1])**2 - np.abs(rhe[1,0])**2 \n",
    "\n",
    "    \n",
    "    \n",
    "    return d_qq.imag, 0.5*d_sz.imag"
   ]
  },
  {
   "cell_type": "code",
   "execution_count": 12,
   "metadata": {},
   "outputs": [
    {
     "data": {
      "text/plain": [
       "(-0.6090958868147341, 1.0000000000000018)"
      ]
     },
     "execution_count": 12,
     "metadata": {},
     "output_type": "execute_result"
    }
   ],
   "source": [
    "charge_pump(En=0.0,chem=1.0,m_zero=3.0,polar=0.3)"
   ]
  },
  {
   "cell_type": "code",
   "execution_count": null,
   "metadata": {},
   "outputs": [],
   "source": []
  }
 ],
 "metadata": {
  "kernelspec": {
   "display_name": "Python 3",
   "language": "python",
   "name": "python3"
  },
  "language_info": {
   "codemirror_mode": {
    "name": "ipython",
    "version": 3
   },
   "file_extension": ".py",
   "mimetype": "text/x-python",
   "name": "python",
   "nbconvert_exporter": "python",
   "pygments_lexer": "ipython3",
   "version": "3.7.6"
  }
 },
 "nbformat": 4,
 "nbformat_minor": 4
}
